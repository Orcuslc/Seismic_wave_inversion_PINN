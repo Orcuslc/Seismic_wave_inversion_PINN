{
 "cells": [
  {
   "cell_type": "markdown",
   "metadata": {},
   "source": [
    "# 1d poissson equation\n",
    "---\n",
    "$$\n",
    "\\begin{aligned}\n",
    "&\\frac{d^2 u}{dx^2} = -\\sin(x), \\ x \\in [-\\pi, \\pi], \\\\\n",
    "&u(-\\pi) = u(\\pi) = 0.\n",
    "\\end{aligned}\n",
    "$$\n",
    "\n",
    "Solution:\n",
    "$$\n",
    "u(x) = \\sin(x).\n",
    "$$"
   ]
  },
  {
   "cell_type": "code",
   "execution_count": 1,
   "metadata": {},
   "outputs": [],
   "source": [
    "import flax, flax.nn\n",
    "from flax import jax_utils, optim\n",
    "from flax.training import lr_schedule\n",
    "\n",
    "import jax, jax.nn\n",
    "from jax import random\n",
    "import jax.numpy as jnp\n",
    "\n",
    "import sys\n",
    "sys.path.append(\"../../\")\n",
    "\t\n",
    "from Seismic_wave_inversion_PINN.tf_model_utils import *\n",
    "from Seismic_wave_inversion_PINN.data_utils import *"
   ]
  },
  {
   "cell_type": "code",
   "execution_count": 2,
   "metadata": {},
   "outputs": [],
   "source": [
    "class MLP(flax.nn.Module):\n",
    "\tdef apply(self, x, layers, activation_fn):\n",
    "\t\tfor l in layers[:-1]:\n",
    "\t\t\tx = flax.nn.Dense(x, features = l, \n",
    "\t\t\t\t\t\t\t kernel_init = jax.nn.initializers.glorot_uniform(),\n",
    "\t\t\t\t\t\t\t bias_init = lambda key, shape: jnp.zeros(shape),)\n",
    "\t\t\tx = activation_fn(x)\n",
    "\t\tx = flax.nn.Dense(x, features = layers[-1], \n",
    "\t\t\t\t\t\t kernel_init = jax.nn.initializers.glorot_uniform(),\n",
    "\t\t\t\t\t\t bias_init = lambda key, shape: jnp.zeros(shape),)\n",
    "\t\treturn x\n",
    "\t\n",
    "def create_model(key, layers):\n",
    "\tmodule = MLP.partial(layers = layers, activation_fn = jnp.tanh)\n",
    "\t_, initial_params = module.init_by_shape(key, [(1,)])\n",
    "\tmodel = flax.nn.Model(module, initial_params)\n",
    "\treturn model\n",
    "\n",
    "layers = [128, 128, 128, 128, 1]\n",
    "model = create_model(random.PRNGKey(0), layers)"
   ]
  },
  {
   "cell_type": "code",
   "execution_count": 3,
   "metadata": {},
   "outputs": [],
   "source": [
    "@jax.jit\n",
    "def mse(pred, true):\n",
    "\treturn jnp.sum(jnp.mean(jnp.square(pred - true)))\n",
    "\n",
    "@jax.jit\n",
    "def step(optimizer, batch):\n",
    "\tdef loss_fn(model):\n",
    "\t\t\n",
    "\t\tdef scalar_predict(x):\n",
    "\t\t\treturn jnp.sum(model(x))\n",
    "        \n",
    "\t\tdef scalar_du_dx(x):\n",
    "\t\t\treturn jnp.sum(jax.grad(scalar_predict)(x))\n",
    "        \n",
    "\t\t@jax.vmap\n",
    "\t\tdef du_dxx(x):\n",
    "\t\t\treturn jax.grad(scalar_du_dx)(x)\n",
    "\n",
    "\t\ty_b = model(batch[\"b\"][\"x\"])\n",
    "\t\tloss_c = mse(du_dxx(batch[\"c\"][\"x\"]), -jnp.sin(batch[\"c\"][\"x\"]))\n",
    "\t\tloss_br = mse(du_dxx(batch[\"b\"][\"x\"]), -jnp.sin(batch[\"b\"][\"x\"]))\n",
    "\t\tloss_bv = mse(y_b, batch[\"b\"][\"y\"])\n",
    "\t\tloss = loss_c + loss_br + loss_bv\n",
    "\t\treturn loss\n",
    "\t\n",
    "\tgrad = jax.grad(loss_fn)(optimizer.target)\n",
    "\toptimizer = optimizer.apply_gradient(grad)\n",
    "\treturn optimizer\n",
    "\n",
    "@jax.jit\n",
    "def evaluate(model, batch):\n",
    "\tdef loss_fn(model):\n",
    "\t\t\n",
    "\t\tdef scalar_predict(x):\n",
    "\t\t\treturn jnp.sum(model(x))\n",
    "        \n",
    "\t\tdef scalar_du_dx(x):\n",
    "\t\t\treturn jnp.sum(jax.grad(scalar_predict)(x))\n",
    "        \n",
    "\t\t@jax.vmap\n",
    "\t\tdef du_dxx(x):\n",
    "\t\t\treturn jax.grad(scalar_du_dx)(x)\n",
    "\n",
    "\t\ty_b = model(batch[\"b\"][\"x\"])\n",
    "\t\tloss_c = mse(du_dxx(batch[\"c\"][\"x\"]), -jnp.sin(batch[\"c\"][\"x\"]))\n",
    "\t\tloss_br = mse(du_dxx(batch[\"b\"][\"x\"]), -jnp.sin(batch[\"b\"][\"x\"]))\n",
    "\t\tloss_bv = mse(y_b, batch[\"b\"][\"y\"])\n",
    "\t\tloss = loss_c + loss_br + loss_bv\n",
    "\t\treturn loss, loss_c, loss_br, loss_bv\n",
    "\treturn loss_fn(model)"
   ]
  },
  {
   "cell_type": "code",
   "execution_count": 4,
   "metadata": {},
   "outputs": [],
   "source": [
    "x_c = random.uniform(random.PRNGKey(0), (100, 1), minval = -jnp.pi, maxval = jnp.pi)\n",
    "x_b = jnp.array([-np.pi, np.pi]).reshape((-1, 1))\n",
    "f = lambda x: jnp.sin(x)\n",
    "y_b = f(x_b)\n",
    "dataset = {\"c\": {\"x\": x_c},\n",
    "\t\t   \"b\": {\"x\": x_b, \"y\": y_b}}"
   ]
  },
  {
   "cell_type": "code",
   "execution_count": 5,
   "metadata": {
    "scrolled": true
   },
   "outputs": [
    {
     "name": "stdout",
     "output_type": "stream",
     "text": [
      "2020/07/21, 13:25:21, Iteration: 1000, Loss: 5.0163e-04, c: 4.2532e-04, br: 7.6222e-05, bv: 8.4857e-08\n",
      "2020/07/21, 13:25:23, Iteration: 2000, Loss: 1.0869e-04, c: 9.6881e-05, br: 1.1804e-05, bv: 3.1045e-09\n",
      "2020/07/21, 13:25:24, Iteration: 3000, Loss: 4.6634e-05, c: 4.2981e-05, br: 3.6524e-06, bv: 5.8997e-11\n",
      "2020/07/21, 13:25:25, Iteration: 4000, Loss: 2.0821e-05, c: 1.9364e-05, br: 1.4543e-06, bv: 2.8461e-09\n",
      "2020/07/21, 13:25:26, Iteration: 5000, Loss: 1.5983e-05, c: 1.1656e-05, br: 1.8387e-08, bv: 4.3087e-06\n",
      "2020/07/21, 13:25:27, Iteration: 6000, Loss: 6.7409e-06, c: 6.3070e-06, br: 3.7308e-07, bv: 6.0798e-08\n",
      "2020/07/21, 13:25:28, Iteration: 7000, Loss: 7.0102e-06, c: 4.7545e-06, br: 7.6077e-07, bv: 1.4949e-06\n",
      "2020/07/21, 13:25:29, Iteration: 8000, Loss: 4.2328e-06, c: 4.1221e-06, br: 1.1065e-07, bv: 1.9846e-11\n",
      "2020/07/21, 13:25:30, Iteration: 9000, Loss: 3.4458e-06, c: 3.3669e-06, br: 7.7130e-08, bv: 1.7567e-09\n",
      "2020/07/21, 13:25:31, Iteration: 10000, Loss: 2.7391e-06, c: 2.6769e-06, br: 6.1680e-08, bv: 5.9390e-10\n"
     ]
    }
   ],
   "source": [
    "optimizer = flax.optim.Adam(learning_rate = 1e-4).create(model)\n",
    "for iteration in range(1, 10001):\n",
    "\toptimizer = step(optimizer, dataset)\n",
    "\tif iteration % 1000 == 0:\n",
    "\t\tnames = (\"Loss\", \"c\", \"br\", \"bv\")\n",
    "\t\tprint(\"{}, Iteration: {},\".format(get_time(), iteration) + \\\n",
    "\t\t\t  ','.join([\" {}: {:.4e}\".format(name, loss) for name, loss in zip(names, evaluate(optimizer.target, dataset))]))"
   ]
  },
  {
   "cell_type": "code",
   "execution_count": 9,
   "metadata": {},
   "outputs": [
    {
     "data": {
      "image/png": "[encoded data removed]",
      "text/plain": [
       "<Figure size 640x480 with 1 Axes>"
      ]
     },
     "metadata": {},
     "output_type": "display_data"
    }
   ],
   "source": [
    "x_test = jnp.linspace(-jnp.pi, jnp.pi, 1000).reshape((-1, 1))\n",
    "y_test = f(x_test)\n",
    "y_pred = optimizer.target(x_test)\n",
    "\n",
    "import matplotlib.pyplot as plt\n",
    "plt.rcParams.update(plt.rcParamsDefault)\n",
    "\n",
    "plt.plot(x_test, y_test, label = \"true\")\n",
    "plt.plot(x_test, y_pred, label = \"pred\")\n",
    "plt.legend()\n",
    "plt.show()"
   ]
  },
  {
   "cell_type": "code",
   "execution_count": null,
   "metadata": {},
   "outputs": [],
   "source": []
  }
 ],
 "metadata": {
  "kernelspec": {
   "display_name": "Python 3",
   "language": "python",
   "name": "python3"
  },
  "language_info": {
   "codemirror_mode": {
    "name": "ipython",
    "version": 3
   },
   "file_extension": ".py",
   "mimetype": "text/x-python",
   "name": "python",
   "nbconvert_exporter": "python",
   "pygments_lexer": "ipython3",
   "version": "3.8.3"
  }
 },
 "nbformat": 4,
 "nbformat_minor": 4
}
