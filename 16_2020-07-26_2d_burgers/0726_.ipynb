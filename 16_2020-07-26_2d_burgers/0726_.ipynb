{
 "cells": [
  {
   "cell_type": "markdown",
   "metadata": {},
   "source": [
    "# 2D burgers\n",
    "---\n",
    "\n",
    "https://github.com/cics-nd/ar-pde-cnn/tree/master/2D-Burgers-SWAG\n",
    "\n",
    "https://arxiv.org/abs/1906.05747"
   ]
  },
  {
   "cell_type": "code",
   "execution_count": 1,
   "metadata": {},
   "outputs": [],
   "source": [
    "NAME=\"0726_\""
   ]
  },
  {
   "cell_type": "code",
   "execution_count": 2,
   "metadata": {},
   "outputs": [],
   "source": [
    "import jax, jax.nn\n",
    "from jax import random\n",
    "import jax.numpy as jnp\n",
    "from jax.experimental import optimizers\n",
    "\n",
    "import sys, os\n",
    "sys.path.append(\"../../\")\n",
    "\t\n",
    "from Seismic_wave_inversion_PINN.data_utils import *\n",
    "\n",
    "from collections import namedtuple"
   ]
  },
  {
   "cell_type": "code",
   "execution_count": null,
   "metadata": {},
   "outputs": [],
   "source": [
    "def siren_layer_params(key, scale, m, n):\n",
    "\tw_key, b_key = random.split(key)\n",
    "\treturn random.uniform(w_key, (m, n), jnp.float32, minval = -scale, maxval = scale), jnp.zeros((n, ), jnp.float32)\n",
    "\n",
    "def init_siren_params(key, layers, c, w0):\n",
    "\tkeys = random.split(key, len(layers))\n",
    "\treturn [siren_layer_params(keys[0], w0*jnp.sqrt(c/layers[0]), layers[0], layers[1])] + \\\n",
    "\t\t\t[siren_layer_params(k, jnp.sqrt(c/m), m, n) for m, n, k in zip(layers[1:-1], layers[2:], keys[1:])]\n",
    "\n",
    "def \n",
    "\n",
    "layers = [3, 512, 512, 512, 512, 512, 1] # (x, z, t) -> p\n",
    "c = 6.0\n",
    "w0 = 30.0\n",
    "lambda_0 = 1e-5\n",
    "direct_params = init_siren_params(random.PRNGKey(0), layers, c, w0)\n",
    "\n",
    "inverse_NAME = \"0722_pretrain_inverse_problem\"\n",
    "inverse_iteration = 1000000\n",
    "inverse_params = np.load(\"models/{}/inverse_model/iteration_{}/params.npy\".format(inverse_NAME, inverse_iteration), allow_pickle=True)\n",
    "inverse_params = [[jnp.asarray(arr) for arr in Arr] for Arr in inverse_params]\n",
    "\n",
    "@jax.jit\n",
    "def scalar_direct_model(params, x, z, t):\n",
    "\tx_ = jnp.hstack([x, z, t])\n",
    "\tfor w, b in params[:-1]:\n",
    "\t\tx_ = jnp.sin(jnp.dot(x_, w) + b)\n",
    "\treturn jnp.sum(jnp.dot(x_, params[-1][0]) + params[-1][1])\n",
    "\n",
    "@jax.jit\n",
    "def scalar_inverse_model(params, x, z):\n",
    "\tx_ = jnp.hstack([x, z])\n",
    "\tfor w, b in params[:-1]:\n",
    "\t\tx_ = jnp.sin(jnp.dot(x_, w) + b)\n",
    "\treturn jnp.sum(jnp.dot(x_, params[-1][0]) + params[-1][1])\n",
    "\n",
    "direct_model = jax.jit(jax.vmap(scalar_direct_model, in_axes = (None, 0, 0, 0)))\n",
    "inverse_model = jax.jit(jax.vmap(scalar_inverse_model, in_axes = (None, 0, 0)))"
   ]
  }
 ],
 "metadata": {
  "kernelspec": {
   "display_name": "Python 3",
   "language": "python",
   "name": "python3"
  },
  "language_info": {
   "codemirror_mode": {
    "name": "ipython",
    "version": 3
   },
   "file_extension": ".py",
   "mimetype": "text/x-python",
   "name": "python",
   "nbconvert_exporter": "python",
   "pygments_lexer": "ipython3",
   "version": "3.8.3"
  }
 },
 "nbformat": 4,
 "nbformat_minor": 4
}
