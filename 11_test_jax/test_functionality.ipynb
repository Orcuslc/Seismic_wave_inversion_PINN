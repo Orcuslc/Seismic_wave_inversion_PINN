{
 "cells": [
  {
   "cell_type": "markdown",
   "metadata": {},
   "source": [
    "$$\n",
    "\\frac{d^2 y}{dx^2} = 1\n",
    "$$"
   ]
  },
  {
   "cell_type": "code",
   "execution_count": 1,
   "metadata": {},
   "outputs": [],
   "source": [
    "import jax.numpy as jnp\n",
    "from jax import grad, jit, vmap\n",
    "from jax import random\n",
    "from jax.config import config\n",
    "config.update(\"jax_enable_x64\", False)"
   ]
  },
  {
   "cell_type": "code",
   "execution_count": 32,
   "metadata": {},
   "outputs": [],
   "source": [
    "@jit \n",
    "def f(x, y):\n",
    "\treturn jnp.sum(2*x**2 + y**2)\n",
    "\n",
    "@jit\n",
    "def dx(x, y):\n",
    "\treturn jnp.sum(grad(f, 0)(x, y))\n",
    "\n",
    "@jit\n",
    "def ddx(x, y):\n",
    "\treturn jnp.sum(grad(dx, 0)(x, y))\n",
    "\n",
    "batched_dx = vmap(dx, in_axes=(0, 0), out_axes=0)\n",
    "batched_ddx = vmap(ddx, in_axes=(0, 0), out_axes=0)"
   ]
  },
  {
   "cell_type": "code",
   "execution_count": 33,
   "metadata": {
    "scrolled": true
   },
   "outputs": [
    {
     "name": "stdout",
     "output_type": "stream",
     "text": [
      "42.0\n",
      "[ 4.  8. 12.]\n",
      "[4. 4. 4.]\n"
     ]
    }
   ],
   "source": [
    "x = jnp.array([1.0, 2.0, 3.0]).reshape((-1, 1))\n",
    "y = x\n",
    "print(f(x, y))\n",
    "print(batched_dx(x, y))\n",
    "print(batched_ddx(x, y))"
   ]
  },
  {
   "cell_type": "code",
   "execution_count": null,
   "metadata": {},
   "outputs": [],
   "source": []
  }
 ],
 "metadata": {
  "kernelspec": {
   "display_name": "Python 3",
   "language": "python",
   "name": "python3"
  },
  "language_info": {
   "codemirror_mode": {
    "name": "ipython",
    "version": 3
   },
   "file_extension": ".py",
   "mimetype": "text/x-python",
   "name": "python",
   "nbconvert_exporter": "python",
   "pygments_lexer": "ipython3",
   "version": "3.8.3"
  }
 },
 "nbformat": 4,
 "nbformat_minor": 4
}
