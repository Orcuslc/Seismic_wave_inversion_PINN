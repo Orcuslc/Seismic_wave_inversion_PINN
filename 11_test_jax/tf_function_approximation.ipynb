{
 "cells": [
  {
   "cell_type": "code",
   "execution_count": 1,
   "metadata": {},
   "outputs": [
    {
     "name": "stdout",
     "output_type": "stream",
     "text": [
      "[PhysicalDevice(name='/physical_device:GPU:0', device_type='GPU'), PhysicalDevice(name='/physical_device:GPU:1', device_type='GPU')]\n"
     ]
    }
   ],
   "source": [
    "import tensorflow as tf\n",
    "import numpy as np\n",
    "import tensorflow.keras as keras\n",
    "import tensorflow.keras.backend as K\n",
    "import matplotlib.pyplot as plt\n",
    "import time\n",
    "\n",
    "import sys\n",
    "sys.path.append(\"../../\")\n",
    "from Seismic_wave_inversion_PINN.tf_model_utils import *\n",
    "from Seismic_wave_inversion_PINN.data_utils import *\n",
    "\n",
    "plt.rcParams.update(plt.rcParamsDefault)\n",
    "tf.keras.backend.set_floatx(\"float32\")\n",
    "\n",
    "%load_ext autoreload\n",
    "%autoreload 2\n",
    "\n",
    "print(tf.config.list_physical_devices('GPU'))"
   ]
  },
  {
   "cell_type": "code",
   "execution_count": 2,
   "metadata": {},
   "outputs": [],
   "source": [
    "model = keras.models.Sequential([\n",
    "\tkeras.layers.Dense(128, input_shape = (1,), activation = \"tanh\", kernel_initializer = \"random_normal\"),\n",
    "\tkeras.layers.Dense(128, activation = \"tanh\", kernel_initializer = \"random_normal\"),\n",
    "\tkeras.layers.Dense(128, activation = \"tanh\", kernel_initializer = \"random_normal\"),\n",
    "\tkeras.layers.Dense(128, activation = \"tanh\", kernel_initializer = \"random_normal\"),\n",
    "\tkeras.layers.Dense(1)\n",
    "])\n",
    "\n",
    "loss_func = keras.losses.MeanSquaredError()"
   ]
  },
  {
   "cell_type": "code",
   "execution_count": 3,
   "metadata": {},
   "outputs": [],
   "source": [
    "def step(x, y):\n",
    "\twith tf.GradientTape() as tape:\n",
    "\t\ty_pred = model(x)\n",
    "\t\tloss = loss_func(y_pred, y)\n",
    "\tgrads = tape.gradient(loss, model.trainable_variables)\n",
    "\toptimizer.apply_gradients(zip(grads, model.trainable_variables))"
   ]
  },
  {
   "cell_type": "code",
   "execution_count": 4,
   "metadata": {},
   "outputs": [],
   "source": [
    "x = np.random.random((1000, 1))\n",
    "y = np.sin(x)\n",
    "x, y = cast_to_tf_constant([x, y], dtype = tf.float32)"
   ]
  },
  {
   "cell_type": "code",
   "execution_count": 5,
   "metadata": {},
   "outputs": [
    {
     "name": "stdout",
     "output_type": "stream",
     "text": [
      "AVG epoch time:  0.008549289178848266\n"
     ]
    }
   ],
   "source": [
    "optimizer = keras.optimizers.SGD(lr = 0.01)\n",
    "epochs = 10000\n",
    "\n",
    "import time\n",
    "start_time = time.time()\n",
    "for i in range(1, epochs+1):\n",
    "\tstep(x, y)\n",
    "print(\"AVG epoch time: \", (time.time() - start_time)/epochs)"
   ]
  },
  {
   "cell_type": "code",
   "execution_count": null,
   "metadata": {},
   "outputs": [],
   "source": []
  }
 ],
 "metadata": {
  "kernelspec": {
   "display_name": "Python 3",
   "language": "python",
   "name": "python3"
  },
  "language_info": {
   "codemirror_mode": {
    "name": "ipython",
    "version": 3
   },
   "file_extension": ".py",
   "mimetype": "text/x-python",
   "name": "python",
   "nbconvert_exporter": "python",
   "pygments_lexer": "ipython3",
   "version": "3.8.3"
  }
 },
 "nbformat": 4,
 "nbformat_minor": 4
}
