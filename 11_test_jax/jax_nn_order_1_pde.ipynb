{
 "cells": [
  {
   "cell_type": "markdown",
   "metadata": {},
   "source": [
    "$$\n",
    "\\frac{dy}{dx} = 1\n",
    "$$"
   ]
  },
  {
   "cell_type": "code",
   "execution_count": 1,
   "metadata": {},
   "outputs": [],
   "source": [
    "import jax.numpy as jnp\n",
    "from jax import grad, jit, vmap\n",
    "from jax import random\n",
    "from jax.config import config\n",
    "config.update(\"jax_enable_x64\", False)"
   ]
  },
  {
   "cell_type": "code",
   "execution_count": 2,
   "metadata": {},
   "outputs": [],
   "source": [
    "# A helper function to randomly initialize weights and biases\n",
    "# for a dense neural network layer\n",
    "def random_layer_params(m, n, key, scale=1e-2):\n",
    "  w_key, b_key = random.split(key)\n",
    "  return scale * random.normal(w_key, (n, m), dtype = jnp.float32), scale * random.normal(b_key, (n,), dtype = jnp.float32)\n",
    "\n",
    "# Initialize all layers for a fully-connected neural network with sizes \"sizes\"\n",
    "def init_network_params(sizes, key):\n",
    "  keys = random.split(key, len(sizes))\n",
    "  return [random_layer_params(m, n, k) for m, n, k in zip(sizes[:-1], sizes[1:], keys)]\n",
    "\n",
    "layer_sizes = [1, 128, 128, 128, 128, 1]\n",
    "params = init_network_params(layer_sizes, random.PRNGKey(0))"
   ]
  },
  {
   "cell_type": "code",
   "execution_count": 3,
   "metadata": {},
   "outputs": [],
   "source": [
    "def predict(params, x):\n",
    "  activations = x\n",
    "  for w, b in params[:-1]:\n",
    "    outputs = jnp.dot(w, activations) + b\n",
    "    activations = jnp.tanh(outputs)\n",
    "  \n",
    "  final_w, final_b = params[-1]\n",
    "  y = jnp.dot(final_w, activations) + final_b\n",
    "  return y"
   ]
  },
  {
   "cell_type": "code",
   "execution_count": 4,
   "metadata": {},
   "outputs": [
    {
     "name": "stdout",
     "output_type": "stream",
     "text": [
      "(100, 1)\n"
     ]
    }
   ],
   "source": [
    "# Let's upgrade it to handle batches using `vmap`\n",
    "\n",
    "# Make a batched version of the `predict` function\n",
    "batched_predict = vmap(predict, in_axes=(None, 0))\n",
    "\n",
    "# `batched_predict` has the same call signature as `predict`\n",
    "random_x = random.uniform(random.PRNGKey(0), shape = (100, 1), dtype = jnp.float32, \n",
    "\t\t\t\t\t\t  minval = -1, maxval = 1)\n",
    "batched_preds = batched_predict(params, random_x)\n",
    "print(batched_preds.shape)"
   ]
  },
  {
   "cell_type": "code",
   "execution_count": 5,
   "metadata": {},
   "outputs": [],
   "source": [
    "import jax\n",
    "def diag_grad(f, x):\n",
    "    def partial_grad_f_index(i):\n",
    "        def partial_grad_f_x(xi):\n",
    "            return f(jax.ops.index_update(x, i, xi))[i]\n",
    "        return jax.grad(partial_grad_f_x)(x[i])\n",
    "    return jax.vmap(partial_grad_f_index)(jax.numpy.arange(x.shape[0]))\n",
    "\n",
    "def jacdiag(f):\n",
    "    def _jacdiag(x):\n",
    "        def partial_grad_f_index(i):\n",
    "            def partial_grad_f_x(xi):\n",
    "                return f(jax.ops.index_update(x, i, xi))[i]\n",
    "            return jax.grad(partial_grad_f_x)(x[i])\n",
    "        return jax.vmap(partial_grad_f_index)(jax.numpy.arange(x.shape[0]))\n",
    "    return _jacdiag\n",
    "\n",
    "# @jit\n",
    "# def vmap_jacdiag(f):\n",
    "# \treturn jax.vmap(f)"
   ]
  },
  {
   "cell_type": "code",
   "execution_count": 6,
   "metadata": {},
   "outputs": [],
   "source": [
    "def mse(x, y):\n",
    "\treturn jnp.mean(jnp.sum(jnp.square(x - y)))\n",
    "\n",
    "from jax import value_and_grad, vmap\n",
    "\n",
    "@jit\n",
    "def loss(params, x):\n",
    "  dy_dx = jnp.diag(jnp.squeeze(jax.jacfwd(batched_predict, 1)(params, x)))\n",
    "  return mse(dy_dx, 1.0)\n",
    "\n",
    "@jit\n",
    "def update(params, x):\n",
    "  grads = grad(loss)(params, x)\n",
    "  return [(w - step_size * dw, b - step_size * db)\n",
    "          for (w, b), (dw, db) in zip(params, grads)]"
   ]
  },
  {
   "cell_type": "code",
   "execution_count": 7,
   "metadata": {},
   "outputs": [],
   "source": [
    "x = random.uniform(random.PRNGKey(0), shape = (1000, 1), minval = 0.0, maxval = 1.0, dtype = jnp.float32)"
   ]
  },
  {
   "cell_type": "code",
   "execution_count": 8,
   "metadata": {
    "scrolled": true
   },
   "outputs": [
    {
     "name": "stdout",
     "output_type": "stream",
     "text": [
      "AVG epoch time:  0.07534186401367188\n"
     ]
    }
   ],
   "source": [
    "epochs = 5000\n",
    "step_size = 0.01\n",
    "\n",
    "import time\n",
    "start_time = time.time()\n",
    "for epoch in range(1, epochs + 1):\n",
    "\tparams = update(params, x)\n",
    "print(\"AVG epoch time: \", (time.time() - start_time)/epochs)"
   ]
  },
  {
   "cell_type": "code",
   "execution_count": null,
   "metadata": {},
   "outputs": [],
   "source": []
  }
 ],
 "metadata": {
  "kernelspec": {
   "display_name": "Python 3",
   "language": "python",
   "name": "python3"
  },
  "language_info": {
   "codemirror_mode": {
    "name": "ipython",
    "version": 3
   },
   "file_extension": ".py",
   "mimetype": "text/x-python",
   "name": "python",
   "nbconvert_exporter": "python",
   "pygments_lexer": "ipython3",
   "version": "3.8.3"
  }
 },
 "nbformat": 4,
 "nbformat_minor": 4
}
