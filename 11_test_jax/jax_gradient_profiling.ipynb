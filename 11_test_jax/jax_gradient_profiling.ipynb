{
 "cells": [
  {
   "cell_type": "code",
   "execution_count": 1,
   "metadata": {},
   "outputs": [],
   "source": [
    "import jax.numpy as jnp\n",
    "from jax import grad, jit, vmap\n",
    "from jax import random\n",
    "from jax.config import config\n",
    "config.update(\"jax_enable_x64\", False)"
   ]
  },
  {
   "cell_type": "code",
   "execution_count": 4,
   "metadata": {},
   "outputs": [],
   "source": [
    "# A helper function to randomly initialize weights and biases\n",
    "# for a dense neural network layer\n",
    "def random_layer_params(m, n, key, scale=1e-2):\n",
    "  w_key, b_key = random.split(key)\n",
    "  return scale * random.normal(w_key, (n, m), dtype = jnp.float32), scale * random.normal(b_key, (n,), dtype = jnp.float32)\n",
    "\n",
    "# Initialize all layers for a fully-connected neural network with sizes \"sizes\"\n",
    "def init_network_params(sizes, key):\n",
    "  keys = random.split(key, len(sizes))\n",
    "  return [random_layer_params(m, n, k) for m, n, k in zip(sizes[:-1], sizes[1:], keys)]\n",
    "\n",
    "layer_sizes = [1, 128, 128, 128, 128, 1]\n",
    "params = init_network_params(layer_sizes, random.PRNGKey(0))\n",
    "\n",
    "@jit\n",
    "def predict(params, x):\n",
    "  activations = x\n",
    "  for w, b in params[:-1]:\n",
    "    outputs = jnp.dot(w, activations) + b\n",
    "    activations = jnp.tanh(outputs)\n",
    "  \n",
    "  final_w, final_b = params[-1]\n",
    "  y = jnp.dot(final_w, activations) + final_b\n",
    "  return jnp.sum(y)\n",
    "\n",
    "x = random.uniform(random.PRNGKey(0), shape = (1000, 1), minval = 0.0, maxval = 1.0, dtype = jnp.float32)"
   ]
  },
  {
   "cell_type": "markdown",
   "metadata": {},
   "source": [
    "## 1. first order grad wrt param and x"
   ]
  },
  {
   "cell_type": "code",
   "execution_count": 10,
   "metadata": {},
   "outputs": [
    {
     "name": "stdout",
     "output_type": "stream",
     "text": [
      "640 µs ± 640 ns per loop (mean ± std. dev. of 7 runs, 1000 loops each)\n",
      "641 µs ± 402 ns per loop (mean ± std. dev. of 7 runs, 1000 loops each)\n",
      "638 µs ± 660 ns per loop (mean ± std. dev. of 7 runs, 1000 loops each)\n",
      "618 µs ± 532 ns per loop (mean ± std. dev. of 7 runs, 1000 loops each)\n",
      "619 µs ± 529 ns per loop (mean ± std. dev. of 7 runs, 1000 loops each)\n"
     ]
    }
   ],
   "source": [
    "from jax import value_and_grad\n",
    "\n",
    "@jit\n",
    "def first_order_grad_1(params, x):\n",
    "\ty, grads = value_and_grad(predict, (0, 1))(params, x)\n",
    "\treturn y, grads[0], grads[1]\n",
    "batched_first_order_grad_1 = vmap(first_order_grad_1, in_axes = (None, 0))\n",
    "\n",
    "\n",
    "@jit\n",
    "def first_order_grad_2(params, x):\n",
    "\ty = predict(params, x)\n",
    "\tgrads = grad(predict, (0, 1))(params, x)\n",
    "\treturn y, grads[0], grads[1]\n",
    "batched_first_order_grad_2 = vmap(first_order_grad_2, in_axes = (None, 0))\n",
    "\n",
    "\n",
    "@jit\n",
    "def first_order_grad_3(params, x):\n",
    "\ty = predict(params, x)\n",
    "\tgrads_param = grad(predict, 0)(params, x)\n",
    "\tgrads_x = grad(predict, 1)(params, x)\n",
    "\treturn y, grads_param, grads_x\n",
    "batched_first_order_grad_3 = vmap(first_order_grad_3, in_axes = (None, 0))\n",
    "\n",
    "\n",
    "@jit\n",
    "def first_order_grad_4(params, x):\n",
    "\tgrads = grad(predict, (0, 1))(params, x)\n",
    "\treturn grads[0], grads[1]\n",
    "batched_first_order_grad_4 = vmap(first_order_grad_4, in_axes = (None, 0))\n",
    "\n",
    "\n",
    "@jit\n",
    "def first_order_grad_5(params, x):\n",
    "\tgrads_param = grad(predict, 0)(params, x)\n",
    "\tgrads_x = grad(predict, 1)(params, x)\n",
    "\treturn grads_param, grads_x\n",
    "batched_first_order_grad_5 = vmap(first_order_grad_5, in_axes = (None, 0))\n",
    "\n",
    "\n",
    "%timeit batched_first_order_grad_1(params, x)\n",
    "%timeit batched_first_order_grad_2(params, x)\n",
    "%timeit batched_first_order_grad_3(params, x)\n",
    "%timeit batched_first_order_grad_4(params, x)\n",
    "%timeit batched_first_order_grad_5(params, x)"
   ]
  },
  {
   "cell_type": "markdown",
   "metadata": {},
   "source": [
    "## 2. second derivative wrt x and first derivative wrt param"
   ]
  },
  {
   "cell_type": "code",
   "execution_count": null,
   "metadata": {},
   "outputs": [],
   "source": [
    "@jit\n",
    "def second_order_grad(params, x):\n",
    "\ty, first_order_grads = value_and_grad(predict, (0, 1))(params, x)\n",
    "\tddx = "
   ]
  },
  {
   "cell_type": "markdown",
   "metadata": {},
   "source": [
    "## 3. multiple outputs"
   ]
  },
  {
   "cell_type": "markdown",
   "metadata": {},
   "source": [
    "## 4. multiple inputs"
   ]
  },
  {
   "cell_type": "markdown",
   "metadata": {},
   "source": [
    "## 5. multiple outputs and inputs"
   ]
  },
  {
   "cell_type": "code",
   "execution_count": null,
   "metadata": {},
   "outputs": [],
   "source": []
  }
 ],
 "metadata": {
  "kernelspec": {
   "display_name": "Python 3",
   "language": "python",
   "name": "python3"
  },
  "language_info": {
   "codemirror_mode": {
    "name": "ipython",
    "version": 3
   },
   "file_extension": ".py",
   "mimetype": "text/x-python",
   "name": "python",
   "nbconvert_exporter": "python",
   "pygments_lexer": "ipython3",
   "version": "3.8.5"
  }
 },
 "nbformat": 4,
 "nbformat_minor": 4
}
