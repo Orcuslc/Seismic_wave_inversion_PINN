{
 "cells": [
  {
   "cell_type": "markdown",
   "metadata": {},
   "source": [
    "$$\n",
    "\\frac{dy}{dx} = 1\n",
    "$$"
   ]
  },
  {
   "cell_type": "code",
   "execution_count": 8,
   "metadata": {},
   "outputs": [],
   "source": [
    "import jax.numpy as jnp\n",
    "from jax import grad, jit, vmap\n",
    "from jax import random\n",
    "from jax.config import config\n",
    "config.update(\"jax_enable_x64\", False)"
   ]
  },
  {
   "cell_type": "code",
   "execution_count": 9,
   "metadata": {},
   "outputs": [],
   "source": [
    "# A helper function to randomly initialize weights and biases\n",
    "# for a dense neural network layer\n",
    "def random_layer_params(m, n, key, scale=1e-2):\n",
    "  w_key, b_key = random.split(key)\n",
    "  return scale * random.normal(w_key, (n, m), dtype = jnp.float32), scale * random.normal(b_key, (n,), dtype = jnp.float32)\n",
    "\n",
    "# Initialize all layers for a fully-connected neural network with sizes \"sizes\"\n",
    "def init_network_params(sizes, key):\n",
    "  keys = random.split(key, len(sizes))\n",
    "  return [random_layer_params(m, n, k) for m, n, k in zip(sizes[:-1], sizes[1:], keys)]\n",
    "\n",
    "layer_sizes = [1, 128, 128, 128, 128, 1]\n",
    "params = init_network_params(layer_sizes, random.PRNGKey(0))"
   ]
  },
  {
   "cell_type": "code",
   "execution_count": 10,
   "metadata": {},
   "outputs": [],
   "source": [
    "@jit\n",
    "def predict(params, x):\n",
    "  activations = x\n",
    "  for w, b in params[:-1]:\n",
    "    outputs = jnp.dot(w, activations) + b\n",
    "    activations = jnp.tanh(outputs)\n",
    "  \n",
    "  final_w, final_b = params[-1]\n",
    "  y = jnp.dot(final_w, activations) + final_b\n",
    "  return jnp.sum(y)\n",
    "\n",
    "from jax import value_and_grad\n",
    "\n",
    "@jit\n",
    "def predict_and_grad(params, x):\n",
    "\ty, grads = value_and_grad(predict, (0, 1))(params, x)\n",
    "\treturn y, grads[0], grads[1]\n",
    "\t\n",
    "batched_predict_and_grad = vmap(predict_and_grad, in_axes = (None, 0))"
   ]
  },
  {
   "cell_type": "code",
   "execution_count": 11,
   "metadata": {},
   "outputs": [],
   "source": [
    "def mse(x, y):\n",
    "\treturn jnp.mean(jnp.sum(jnp.square(x - y)))\n",
    "\n",
    "from jax import value_and_grad, vmap\n",
    "\n",
    "@jit\n",
    "def loss(params, x):\n",
    "  _, _, dy_dx = batched_predict_and_grad(params, x)\n",
    "  return mse(dy_dx, 1.0)\n",
    "\n",
    "@jit\n",
    "def update(params, x):\n",
    "  grads = grad(loss)(params, x)\n",
    "  return [(w - step_size * dw, b - step_size * db)\n",
    "          for (w, b), (dw, db) in zip(params, grads)]"
   ]
  },
  {
   "cell_type": "code",
   "execution_count": 12,
   "metadata": {},
   "outputs": [],
   "source": [
    "x = random.uniform(random.PRNGKey(0), shape = (1000, 1), minval = 0.0, maxval = 1.0, dtype = jnp.float32)"
   ]
  },
  {
   "cell_type": "code",
   "execution_count": 13,
   "metadata": {
    "scrolled": true
   },
   "outputs": [
    {
     "name": "stdout",
     "output_type": "stream",
     "text": [
      "AVG epoch time:  0.000493834924697876\n"
     ]
    }
   ],
   "source": [
    "epochs = 5000\n",
    "step_size = 0.01\n",
    "\n",
    "import time\n",
    "start_time = time.time()\n",
    "for epoch in range(1, epochs + 1):\n",
    "\tparams = update(params, x)\n",
    "print(\"AVG epoch time: \", (time.time() - start_time)/epochs)"
   ]
  },
  {
   "cell_type": "code",
   "execution_count": 14,
   "metadata": {},
   "outputs": [
    {
     "data": {
      "text/plain": [
       "28.6"
      ]
     },
     "execution_count": 14,
     "metadata": {},
     "output_type": "execute_result"
    }
   ],
   "source": [
    "0.0143/0.0005"
   ]
  },
  {
   "cell_type": "code",
   "execution_count": null,
   "metadata": {},
   "outputs": [],
   "source": []
  }
 ],
 "metadata": {
  "kernelspec": {
   "display_name": "Python 3",
   "language": "python",
   "name": "python3"
  },
  "language_info": {
   "codemirror_mode": {
    "name": "ipython",
    "version": 3
   },
   "file_extension": ".py",
   "mimetype": "text/x-python",
   "name": "python",
   "nbconvert_exporter": "python",
   "pygments_lexer": "ipython3",
   "version": "3.8.3"
  }
 },
 "nbformat": 4,
 "nbformat_minor": 4
}
