{
 "cells": [
  {
   "cell_type": "markdown",
   "metadata": {},
   "source": [
    "# 1d Poisson, 2 output\n",
    "---\n",
    "$$\n",
    "\\begin{aligned}\n",
    "&\\frac{d^2 y}{dx^2} = 2, \\ x\\in [-1, 1], \\\\\n",
    "&x(-1) = 0, x(1) = 2.\n",
    "\\end{aligned}\n",
    "$$\n",
    "\n",
    "Solution:\n",
    "$$\n",
    "y = x^2+x.\n",
    "$$"
   ]
  },
  {
   "cell_type": "code",
   "execution_count": 1,
   "metadata": {},
   "outputs": [
    {
     "name": "stdout",
     "output_type": "stream",
     "text": [
      "[PhysicalDevice(name='/physical_device:GPU:0', device_type='GPU'), PhysicalDevice(name='/physical_device:GPU:1', device_type='GPU')]\n"
     ]
    }
   ],
   "source": [
    "import tensorflow as tf\n",
    "import numpy as np\n",
    "import tensorflow.keras as keras\n",
    "import tensorflow.keras.backend as K\n",
    "import matplotlib.pyplot as plt\n",
    "import time\n",
    "\n",
    "import sys\n",
    "sys.path.append(\"../../\")\n",
    "from Seismic_wave_inversion_PINN.tf_model_utils import *\n",
    "from Seismic_wave_inversion_PINN.data_utils import *\n",
    "\n",
    "plt.rcParams.update(plt.rcParamsDefault)\n",
    "tf.keras.backend.set_floatx(\"float32\")\n",
    "\n",
    "%load_ext autoreload\n",
    "%autoreload 2\n",
    "\n",
    "print(tf.config.list_physical_devices('GPU'))"
   ]
  },
  {
   "cell_type": "code",
   "execution_count": 2,
   "metadata": {},
   "outputs": [],
   "source": [
    "model = keras.models.Sequential([\n",
    "\tkeras.layers.Dense(128, input_shape = (1,), activation = \"tanh\", kernel_initializer = \"random_normal\"),\n",
    "\tkeras.layers.Dense(128, activation = \"tanh\", kernel_initializer = \"random_normal\"),\n",
    "\tkeras.layers.Dense(128, activation = \"tanh\", kernel_initializer = \"random_normal\"),\n",
    "\tkeras.layers.Dense(128, activation = \"tanh\", kernel_initializer = \"random_normal\"),\n",
    "\tkeras.layers.Dense(2, use_bias = True)\n",
    "])\n",
    "\n",
    "loss_func = keras.losses.MeanSquaredError()"
   ]
  },
  {
   "cell_type": "code",
   "execution_count": 3,
   "metadata": {},
   "outputs": [],
   "source": [
    "def get_residue_loss(tape, x, y1, y2):\n",
    "    dy1_dx = tape.gradient(y1, x)\n",
    "    dy_dxx = tape.gradient(y2, x)\n",
    "    return loss_func(dy_dxx, 2.0) + loss_func(y2, dy1_dx)\n",
    "\n",
    "def step(dataset):\n",
    "\twith tf.GradientTape(persistent = True) as tape:\n",
    "\t\ttape.watch(dataset)\n",
    "\t\t[x_b, y_b, x_c] = dataset\n",
    "\t\t\n",
    "\t\ty_b_pred = model(x_b)\n",
    "\t\ty_c = model(x_c)\n",
    "\t\t\n",
    "\t\tloss_c = get_residue_loss(tape, x_c, y_c[:, 0:1], y_c[:, 1:2])\n",
    "\t\tloss_br = get_residue_loss(tape, x_b, y_b_pred[:, 0:1], y_b_pred[:, 1:2])\n",
    "\t\tloss_bv = loss_func(y_b_pred[:, 0:1], y_b)\n",
    "\t\tloss = w_c*loss_c + w_br*loss_br + w_bv*loss_bv\n",
    "\tgrads = tape.gradient(loss, model.trainable_variables)\n",
    "\toptimizer.apply_gradients(zip(grads, model.trainable_variables))\n",
    "\tdel tape\n",
    "\treturn loss, loss_c, loss_br, loss_bv\n",
    "\n",
    "def train(iterations, start_iteration, dataset,print_every = 100, save_every = 10000, save_path = None):\n",
    "\titeration = start_iteration\n",
    "\t\n",
    "\twhile iteration < start_iteration + iterations:\n",
    "\t\titeration += 1\n",
    "\t\tloss = step(dataset)\n",
    "\n",
    "\t\tif iteration % print_every == 0:\n",
    "\t\t\tprint(\"{}, Epoch: {}, Loss: {:.4e}, c: {:.4e}, br: {:.4e}, bv: {:.4e}\".format(get_time(), iteration, *list(loss)))"
   ]
  },
  {
   "cell_type": "code",
   "execution_count": 4,
   "metadata": {},
   "outputs": [],
   "source": [
    "np.random.seed(1)\n",
    "x_c = transform(np.random.random((1000, 1)), -1, 1)\n",
    "\n",
    "f = lambda x: x**2 + x\n",
    "x_b = np.array([-1, 1]).reshape((-1, 1))\n",
    "y_b = f(x_b)\n",
    "\n",
    "dataset = cast_to_tf_constant([x_b, y_b, x_c])"
   ]
  },
  {
   "cell_type": "code",
   "execution_count": 5,
   "metadata": {
    "scrolled": true
   },
   "outputs": [
    {
     "name": "stdout",
     "output_type": "stream",
     "text": [
      "WARNING:tensorflow:Calling GradientTape.gradient on a persistent tape inside its context is significantly less efficient than calling it outside the context (it causes the gradient ops to be recorded on the tape, leading to increased CPU and memory usage). Only call GradientTape.gradient inside the context if you actually want to trace the gradient in order to compute higher order derivatives.\n",
      "WARNING:tensorflow:Calling GradientTape.gradient on a persistent tape inside its context is significantly less efficient than calling it outside the context (it causes the gradient ops to be recorded on the tape, leading to increased CPU and memory usage). Only call GradientTape.gradient inside the context if you actually want to trace the gradient in order to compute higher order derivatives.\n",
      "2020/07/19, 03:38:18, Epoch: 100, Loss: 3.5752e+00, c: 1.1712e+00, br: 2.1841e+00, bv: 2.1993e-01\n",
      "2020/07/19, 03:38:22, Epoch: 200, Loss: 3.3743e+00, c: 1.1799e+00, br: 2.1858e+00, bv: 8.5516e-03\n",
      "2020/07/19, 03:38:26, Epoch: 300, Loss: 3.3474e+00, c: 1.1678e+00, br: 2.1721e+00, bv: 7.4860e-03\n",
      "2020/07/19, 03:38:29, Epoch: 400, Loss: 3.3286e+00, c: 1.1603e+00, br: 2.1619e+00, bv: 6.3688e-03\n",
      "2020/07/19, 03:38:33, Epoch: 500, Loss: 3.3139e+00, c: 1.1550e+00, br: 2.1536e+00, bv: 5.2685e-03\n",
      "2020/07/19, 03:38:37, Epoch: 600, Loss: 3.3016e+00, c: 1.1508e+00, br: 2.1465e+00, bv: 4.3148e-03\n",
      "2020/07/19, 03:38:40, Epoch: 700, Loss: 3.2910e+00, c: 1.1472e+00, br: 2.1403e+00, bv: 3.5429e-03\n",
      "2020/07/19, 03:38:44, Epoch: 800, Loss: 3.2816e+00, c: 1.1440e+00, br: 2.1347e+00, bv: 2.9280e-03\n",
      "2020/07/19, 03:38:48, Epoch: 900, Loss: 3.2728e+00, c: 1.1408e+00, br: 2.1296e+00, bv: 2.4321e-03\n",
      "2020/07/19, 03:38:51, Epoch: 1000, Loss: 3.2638e+00, c: 1.1373e+00, br: 2.1245e+00, bv: 2.0153e-03\n",
      "2020/07/19, 03:38:55, Epoch: 1100, Loss: 3.2519e+00, c: 1.1319e+00, br: 2.1184e+00, bv: 1.6184e-03\n",
      "2020/07/19, 03:38:58, Epoch: 1200, Loss: 3.2203e+00, c: 1.1161e+00, br: 2.1032e+00, bv: 1.0716e-03\n",
      "2020/07/19, 03:39:02, Epoch: 1300, Loss: 2.1385e+00, c: 7.5146e-01, br: 1.3850e+00, bv: 2.0730e-03\n",
      "2020/07/19, 03:39:06, Epoch: 1400, Loss: 1.0248e-01, c: 7.3317e-02, br: 2.8840e-02, bv: 3.2592e-04\n",
      "2020/07/19, 03:39:09, Epoch: 1500, Loss: 4.2429e-02, c: 3.0799e-02, br: 1.1541e-02, bv: 8.9013e-05\n",
      "2020/07/19, 03:39:13, Epoch: 1600, Loss: 2.3708e-02, c: 1.7485e-02, br: 6.1893e-03, bv: 3.3896e-05\n",
      "2020/07/19, 03:39:17, Epoch: 1700, Loss: 1.6787e-02, c: 1.2593e-02, br: 4.1774e-03, bv: 1.6184e-05\n",
      "2020/07/19, 03:39:20, Epoch: 1800, Loss: 1.3040e-02, c: 9.8863e-03, br: 3.1432e-03, bv: 1.0146e-05\n",
      "2020/07/19, 03:39:24, Epoch: 1900, Loss: 1.0519e-02, c: 8.0327e-03, br: 2.4788e-03, bv: 7.3147e-06\n",
      "2020/07/19, 03:39:28, Epoch: 2000, Loss: 8.6746e-03, c: 6.6605e-03, br: 2.0085e-03, bv: 5.6134e-06\n",
      "2020/07/19, 03:39:31, Epoch: 2100, Loss: 7.2635e-03, c: 5.6013e-03, br: 1.6577e-03, bv: 4.4353e-06\n",
      "2020/07/19, 03:39:35, Epoch: 2200, Loss: 6.1484e-03, c: 4.7589e-03, br: 1.3860e-03, bv: 3.5791e-06\n",
      "2020/07/19, 03:39:39, Epoch: 2300, Loss: 5.2446e-03, c: 4.0724e-03, br: 1.1693e-03, bv: 2.9134e-06\n",
      "2020/07/19, 03:39:42, Epoch: 2400, Loss: 4.4962e-03, c: 3.5018e-03, br: 9.9196e-04, bv: 2.3860e-06\n",
      "2020/07/19, 03:39:46, Epoch: 2500, Loss: 3.8649e-03, c: 3.0191e-03, br: 8.4389e-04, bv: 1.9473e-06\n",
      "2020/07/19, 03:39:50, Epoch: 2600, Loss: 3.3234e-03, c: 2.6041e-03, br: 7.1765e-04, bv: 1.5974e-06\n",
      "2020/07/19, 03:39:53, Epoch: 2700, Loss: 2.8631e-03, c: 2.2398e-03, br: 6.2276e-04, bv: 5.3389e-07\n",
      "2020/07/19, 03:39:57, Epoch: 2800, Loss: 2.4616e-03, c: 1.9410e-03, br: 5.1955e-04, bv: 1.0407e-06\n",
      "2020/07/19, 03:40:01, Epoch: 2900, Loss: 2.1133e-03, c: 1.6744e-03, br: 4.3653e-04, bv: 2.4180e-06\n",
      "2020/07/19, 03:40:04, Epoch: 3000, Loss: 1.7989e-03, c: 1.4292e-03, br: 3.6918e-04, bv: 5.2933e-07\n",
      "2020/07/19, 03:40:08, Epoch: 3100, Loss: 1.5225e-03, c: 1.2162e-03, br: 3.0527e-04, bv: 1.0215e-06\n",
      "2020/07/19, 03:40:12, Epoch: 3200, Loss: 1.2701e-03, c: 1.0198e-03, br: 2.4988e-04, bv: 4.1150e-07\n",
      "2020/07/19, 03:40:15, Epoch: 3300, Loss: 1.0512e-03, c: 8.5011e-04, br: 2.0026e-04, bv: 8.6077e-07\n",
      "2020/07/19, 03:40:19, Epoch: 3400, Loss: 8.5863e-04, c: 6.9995e-04, br: 1.5835e-04, bv: 3.2957e-07\n",
      "2020/07/19, 03:40:23, Epoch: 3500, Loss: 6.9952e-04, c: 5.7566e-04, br: 1.2374e-04, bv: 1.2230e-07\n",
      "2020/07/19, 03:40:26, Epoch: 3600, Loss: 5.6843e-04, c: 4.7373e-04, br: 9.4469e-05, bv: 2.3046e-07\n",
      "2020/07/19, 03:40:30, Epoch: 3700, Loss: 4.7022e-04, c: 3.9602e-04, br: 7.3129e-05, bv: 1.0723e-06\n",
      "2020/07/19, 03:40:34, Epoch: 3800, Loss: 3.9530e-04, c: 3.3833e-04, br: 5.6811e-05, bv: 1.5347e-07\n",
      "2020/07/19, 03:40:37, Epoch: 3900, Loss: 3.4513e-04, c: 2.9871e-04, br: 4.5865e-05, bv: 5.5043e-07\n",
      "2020/07/19, 03:40:41, Epoch: 4000, Loss: 3.0664e-04, c: 2.6862e-04, br: 3.7932e-05, bv: 8.1764e-08\n",
      "2020/07/19, 03:40:45, Epoch: 4100, Loss: 2.8806e-04, c: 2.4974e-04, br: 3.4681e-05, bv: 3.6375e-06\n",
      "2020/07/19, 03:40:48, Epoch: 4200, Loss: 2.6479e-04, c: 2.3565e-04, br: 2.9098e-05, bv: 3.6738e-08\n",
      "2020/07/19, 03:40:52, Epoch: 4300, Loss: 2.5303e-04, c: 2.2620e-04, br: 2.6724e-05, bv: 1.0254e-07\n",
      "2020/07/19, 03:40:55, Epoch: 4400, Loss: 2.4298e-04, c: 2.1847e-04, br: 2.4491e-05, bv: 1.6431e-08\n",
      "2020/07/19, 03:40:59, Epoch: 4500, Loss: 2.3677e-04, c: 2.1224e-04, br: 2.3327e-05, bv: 1.2100e-06\n",
      "2020/07/19, 03:41:03, Epoch: 4600, Loss: 2.2817e-04, c: 2.0642e-04, br: 2.1707e-05, bv: 3.9331e-08\n",
      "2020/07/19, 03:41:07, Epoch: 4700, Loss: 2.2133e-04, c: 2.0086e-04, br: 2.0463e-05, bv: 9.0043e-09\n",
      "2020/07/19, 03:41:10, Epoch: 4800, Loss: 2.5922e-04, c: 2.0740e-04, br: 3.0634e-05, bv: 2.1189e-05\n",
      "2020/07/19, 03:41:14, Epoch: 4900, Loss: 2.0937e-04, c: 1.9065e-04, br: 1.8715e-05, bv: 1.0429e-08\n",
      "2020/07/19, 03:41:18, Epoch: 5000, Loss: 2.0372e-04, c: 1.8555e-04, br: 1.8073e-05, bv: 9.1887e-08\n",
      "2020/07/19, 03:41:21, Epoch: 5100, Loss: 1.9840e-04, c: 1.8083e-04, br: 1.7360e-05, bv: 2.0437e-07\n",
      "2020/07/19, 03:41:25, Epoch: 5200, Loss: 1.9246e-04, c: 1.7579e-04, br: 1.6670e-05, bv: 3.1515e-09\n",
      "2020/07/19, 03:41:29, Epoch: 5300, Loss: 1.9011e-04, c: 1.7210e-04, br: 1.6568e-05, bv: 1.4470e-06\n",
      "2020/07/19, 03:41:32, Epoch: 5400, Loss: 1.8192e-04, c: 1.6635e-04, br: 1.5567e-05, bv: 3.3756e-09\n",
      "2020/07/19, 03:41:36, Epoch: 5500, Loss: 1.7994e-04, c: 1.6260e-04, br: 1.6045e-05, bv: 1.2917e-06\n",
      "2020/07/19, 03:41:40, Epoch: 5600, Loss: 1.7177e-04, c: 1.5723e-04, br: 1.4540e-05, bv: 2.6018e-09\n",
      "2020/07/19, 03:41:43, Epoch: 5700, Loss: 4.0773e-04, c: 2.1732e-04, br: 7.7873e-05, bv: 1.1254e-04\n",
      "2020/07/19, 03:41:47, Epoch: 5800, Loss: 1.6196e-04, c: 1.4835e-04, br: 1.3599e-05, bv: 1.1938e-08\n",
      "2020/07/19, 03:41:51, Epoch: 5900, Loss: 5.2032e-04, c: 2.3894e-04, br: 1.1527e-04, bv: 1.6612e-04\n",
      "2020/07/19, 03:41:54, Epoch: 6000, Loss: 1.5247e-04, c: 1.3974e-04, br: 1.2728e-05, bv: 2.6934e-09\n",
      "2020/07/19, 03:41:58, Epoch: 6100, Loss: 2.0326e-04, c: 1.4951e-04, br: 2.8589e-05, bv: 2.5156e-05\n",
      "2020/07/19, 03:42:02, Epoch: 6200, Loss: 1.4329e-04, c: 1.3145e-04, br: 1.1835e-05, bv: 4.2444e-09\n",
      "2020/07/19, 03:42:05, Epoch: 6300, Loss: 1.3877e-04, c: 1.2726e-04, br: 1.1471e-05, bv: 4.3281e-08\n",
      "2020/07/19, 03:42:09, Epoch: 6400, Loss: 1.3482e-04, c: 1.2357e-04, br: 1.1059e-05, bv: 1.8401e-07\n",
      "2020/07/19, 03:42:13, Epoch: 6500, Loss: 1.3006e-04, c: 1.1944e-04, br: 1.0619e-05, bv: 3.7657e-10\n",
      "2020/07/19, 03:42:16, Epoch: 6600, Loss: 1.3232e-04, c: 1.1764e-04, br: 1.1622e-05, bv: 3.0541e-06\n",
      "2020/07/19, 03:42:20, Epoch: 6700, Loss: 1.2166e-04, c: 1.1179e-04, br: 9.8638e-06, bv: 4.4862e-10\n",
      "2020/07/19, 03:42:24, Epoch: 6800, Loss: 1.3778e-04, c: 1.1297e-04, br: 1.5723e-05, bv: 9.0884e-06\n",
      "2020/07/19, 03:42:27, Epoch: 6900, Loss: 1.1369e-04, c: 1.0452e-04, br: 9.1640e-06, bv: 3.6277e-09\n",
      "2020/07/19, 03:42:31, Epoch: 7000, Loss: 1.1148e-04, c: 1.0142e-04, br: 9.1453e-06, bv: 9.1751e-07\n",
      "2020/07/19, 03:42:35, Epoch: 7100, Loss: 1.0613e-04, c: 9.7668e-05, br: 8.4623e-06, bv: 1.6304e-09\n",
      "2020/07/19, 03:42:38, Epoch: 7200, Loss: 1.0235e-04, c: 9.4191e-05, br: 8.1575e-06, bv: 1.1858e-09\n",
      "2020/07/19, 03:42:42, Epoch: 7300, Loss: 1.4138e-04, c: 1.0085e-04, br: 1.7656e-05, bv: 2.2869e-05\n",
      "2020/07/19, 03:42:45, Epoch: 7400, Loss: 9.5393e-05, c: 8.7755e-05, br: 7.6370e-06, bv: 4.3451e-10\n",
      "2020/07/19, 03:42:49, Epoch: 7500, Loss: 9.1807e-05, c: 8.4542e-05, br: 7.2637e-06, bv: 1.0369e-09\n"
     ]
    },
    {
     "name": "stdout",
     "output_type": "stream",
     "text": [
      "2020/07/19, 03:42:53, Epoch: 7600, Loss: 9.0255e-05, c: 8.2306e-05, br: 7.0130e-06, bv: 9.3610e-07\n",
      "2020/07/19, 03:42:56, Epoch: 7700, Loss: 8.5350e-05, c: 7.8612e-05, br: 6.7379e-06, bv: 5.3011e-10\n",
      "2020/07/19, 03:43:00, Epoch: 7800, Loss: 8.2553e-05, c: 7.5753e-05, br: 6.7153e-06, bv: 8.3932e-08\n",
      "2020/07/19, 03:43:04, Epoch: 7900, Loss: 7.9243e-05, c: 7.2991e-05, br: 6.2521e-06, bv: 7.6463e-11\n",
      "2020/07/19, 03:43:07, Epoch: 8000, Loss: 8.7328e-05, c: 7.0442e-05, br: 9.9935e-06, bv: 6.8924e-06\n",
      "2020/07/19, 03:43:11, Epoch: 8100, Loss: 7.3645e-05, c: 6.7860e-05, br: 5.7840e-06, bv: 1.0081e-09\n",
      "2020/07/19, 03:43:15, Epoch: 8200, Loss: 2.2439e-04, c: 1.0581e-04, br: 4.5972e-05, bv: 7.2605e-05\n",
      "2020/07/19, 03:43:18, Epoch: 8300, Loss: 6.8374e-05, c: 6.2996e-05, br: 5.3717e-06, bv: 5.6810e-09\n",
      "2020/07/19, 03:43:22, Epoch: 8400, Loss: 6.6786e-05, c: 6.0080e-05, br: 6.4644e-06, bv: 2.4139e-07\n",
      "2020/07/19, 03:43:26, Epoch: 8500, Loss: 6.3676e-05, c: 5.8525e-05, br: 5.0548e-06, bv: 9.6238e-08\n",
      "2020/07/19, 03:43:29, Epoch: 8600, Loss: 6.1025e-05, c: 5.6279e-05, br: 4.7445e-06, bv: 1.7029e-09\n",
      "2020/07/19, 03:43:33, Epoch: 8700, Loss: 6.0476e-05, c: 5.4582e-05, br: 5.2116e-06, bv: 6.8249e-07\n",
      "2020/07/19, 03:43:37, Epoch: 8800, Loss: 5.6729e-05, c: 5.2324e-05, br: 4.4043e-06, bv: 2.3286e-10\n",
      "2020/07/19, 03:43:40, Epoch: 8900, Loss: 2.6628e-04, c: 1.1448e-04, br: 7.1709e-05, bv: 8.0092e-05\n",
      "2020/07/19, 03:43:44, Epoch: 9000, Loss: 5.2736e-05, c: 4.8731e-05, br: 4.0006e-06, bv: 4.5376e-09\n",
      "2020/07/19, 03:43:48, Epoch: 9100, Loss: 5.0650e-05, c: 4.6736e-05, br: 3.9143e-06, bv: 5.8925e-11\n",
      "2020/07/19, 03:43:51, Epoch: 9200, Loss: 1.2992e-04, c: 7.1673e-05, br: 2.8691e-05, bv: 2.9553e-05\n",
      "2020/07/19, 03:43:55, Epoch: 9300, Loss: 4.6943e-05, c: 4.3311e-05, br: 3.6324e-06, bv: 2.1272e-10\n",
      "2020/07/19, 03:43:59, Epoch: 9400, Loss: 5.4720e-05, c: 4.4166e-05, br: 6.4791e-06, bv: 4.0743e-06\n",
      "2020/07/19, 03:44:03, Epoch: 9500, Loss: 4.3549e-05, c: 4.0192e-05, br: 3.3566e-06, bv: 7.5262e-10\n",
      "2020/07/19, 03:44:06, Epoch: 9600, Loss: 7.2962e-05, c: 5.0193e-05, br: 1.3104e-05, bv: 9.6641e-06\n",
      "2020/07/19, 03:44:10, Epoch: 9700, Loss: 4.0404e-05, c: 3.7305e-05, br: 3.0984e-06, bv: 2.0712e-10\n",
      "2020/07/19, 03:44:14, Epoch: 9800, Loss: 4.7589e-04, c: 1.5601e-04, br: 1.2645e-04, bv: 1.9343e-04\n",
      "2020/07/19, 03:44:17, Epoch: 9900, Loss: 3.7466e-05, c: 3.4550e-05, br: 2.9157e-06, bv: 9.8239e-10\n",
      "2020/07/19, 03:44:21, Epoch: 10000, Loss: 6.7046e-05, c: 4.2560e-05, br: 9.8851e-06, bv: 1.4601e-05\n",
      "Avg duration per epoch: 0.036645797038078305\n"
     ]
    }
   ],
   "source": [
    "optimizer = keras.optimizers.Adam(lr = 1e-4)\n",
    "w_c = w_br = w_bv = 1.0\n",
    "iterations = 10000\n",
    "import time\n",
    "start_time = time.time()\n",
    "train(iterations, 0, dataset, 100)\n",
    "end_time = time.time()\n",
    "print(\"Avg duration per epoch:\", (end_time-start_time)/iterations)"
   ]
  },
  {
   "cell_type": "code",
   "execution_count": 7,
   "metadata": {},
   "outputs": [
    {
     "data": {
      "image/png": "[encoded data removed]",
      "text/plain": [
       "<Figure size 640x480 with 1 Axes>"
      ]
     },
     "metadata": {},
     "output_type": "display_data"
    }
   ],
   "source": [
    "x_test = tf.constant(np.linspace(-1, 1, 100).reshape((-1, 1)), dtype = tf.float32)\n",
    "y_test = f(x_test)\n",
    "y_pred = model(x_test)[:, 0:1]\n",
    "\n",
    "import matplotlib.pyplot as plt\n",
    "plt.plot(x_test, y_test, label = \"true\")\n",
    "plt.plot(x_test, y_pred, label = \"pred\")\n",
    "plt.title(\"MSE: {}\".format(np.mean((y_test - y_pred)**2)))\n",
    "plt.legend()\n",
    "plt.show()"
   ]
  },
  {
   "cell_type": "code",
   "execution_count": null,
   "metadata": {},
   "outputs": [],
   "source": []
  }
 ],
 "metadata": {
  "kernelspec": {
   "display_name": "Python 3",
   "language": "python",
   "name": "python3"
  },
  "language_info": {
   "codemirror_mode": {
    "name": "ipython",
    "version": 3
   },
   "file_extension": ".py",
   "mimetype": "text/x-python",
   "name": "python",
   "nbconvert_exporter": "python",
   "pygments_lexer": "ipython3",
   "version": "3.8.3"
  }
 },
 "nbformat": 4,
 "nbformat_minor": 4
}
