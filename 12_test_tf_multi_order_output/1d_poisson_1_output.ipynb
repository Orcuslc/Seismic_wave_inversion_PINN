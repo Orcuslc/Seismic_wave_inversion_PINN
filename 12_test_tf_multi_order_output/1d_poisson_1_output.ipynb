{
 "cells": [
  {
   "cell_type": "markdown",
   "metadata": {},
   "source": [
    "# 1d Poisson, 1 output\n",
    "---\n",
    "$$\n",
    "\\begin{aligned}\n",
    "&\\frac{d^2 y}{dx^2} = 2, \\ x\\in [-1, 1], \\\\\n",
    "&x(-1) = 0, x(1) = 2.\n",
    "\\end{aligned}\n",
    "$$\n",
    "\n",
    "Solution:\n",
    "$$\n",
    "y = x^2+x.\n",
    "$$"
   ]
  },
  {
   "cell_type": "code",
   "execution_count": 1,
   "metadata": {},
   "outputs": [
    {
     "name": "stdout",
     "output_type": "stream",
     "text": [
      "[PhysicalDevice(name='/physical_device:GPU:0', device_type='GPU'), PhysicalDevice(name='/physical_device:GPU:1', device_type='GPU')]\n"
     ]
    }
   ],
   "source": [
    "import tensorflow as tf\n",
    "import numpy as np\n",
    "import tensorflow.keras as keras\n",
    "import tensorflow.keras.backend as K\n",
    "import matplotlib.pyplot as plt\n",
    "import time\n",
    "\n",
    "import sys\n",
    "sys.path.append(\"../../\")\n",
    "from Seismic_wave_inversion_PINN.tf_model_utils import *\n",
    "from Seismic_wave_inversion_PINN.data_utils import *\n",
    "\n",
    "plt.rcParams.update(plt.rcParamsDefault)\n",
    "tf.keras.backend.set_floatx(\"float32\")\n",
    "\n",
    "%load_ext autoreload\n",
    "%autoreload 2\n",
    "\n",
    "print(tf.config.list_physical_devices('GPU'))"
   ]
  },
  {
   "cell_type": "code",
   "execution_count": 2,
   "metadata": {},
   "outputs": [],
   "source": [
    "model = keras.models.Sequential([\n",
    "\tkeras.layers.Dense(128, input_shape = (1,), activation = \"tanh\", kernel_initializer = \"random_normal\"),\n",
    "\tkeras.layers.Dense(128, activation = \"tanh\", kernel_initializer = \"random_normal\"),\n",
    "\tkeras.layers.Dense(128, activation = \"tanh\", kernel_initializer = \"random_normal\"),\n",
    "\tkeras.layers.Dense(128, activation = \"tanh\", kernel_initializer = \"random_normal\"),\n",
    "\tkeras.layers.Dense(1, use_bias = True)\n",
    "])\n",
    "\n",
    "loss_func = keras.losses.MeanSquaredError()"
   ]
  },
  {
   "cell_type": "code",
   "execution_count": 3,
   "metadata": {},
   "outputs": [],
   "source": [
    "def get_residue_loss(tape, x, y):\n",
    "    dy_dx = tape.gradient(y, x)\n",
    "    dy_dxx = tape.gradient(dy_dx, x)\n",
    "    return loss_func(dy_dxx, 2.0)\n",
    "\n",
    "def step(dataset):\n",
    "\twith tf.GradientTape(persistent = True) as tape:\n",
    "\t\ttape.watch(dataset)\n",
    "\t\t[x_b, y_b, x_c] = dataset\n",
    "\t\t\n",
    "\t\ty_b_pred = model(x_b)\n",
    "\t\ty_c = model(x_c)\n",
    "\t\t\n",
    "\t\tloss_c = get_residue_loss(tape, x_c, y_c)\n",
    "\t\tloss_br = get_residue_loss(tape, x_b, y_b_pred)\n",
    "\t\tloss_bv = loss_func(y_b_pred, y_b)\n",
    "\t\tloss = w_c*loss_c + w_br*loss_br + w_bv*loss_bv\n",
    "\tgrads = tape.gradient(loss, model.trainable_variables)\n",
    "\toptimizer.apply_gradients(zip(grads, model.trainable_variables))\n",
    "\tdel tape\n",
    "\treturn loss, loss_c, loss_br, loss_bv\n",
    "\n",
    "def train(iterations, start_iteration, dataset,print_every = 100, save_every = 10000, save_path = None):\n",
    "\titeration = start_iteration\n",
    "\t\n",
    "\twhile iteration < start_iteration + iterations:\n",
    "\t\titeration += 1\n",
    "\t\tloss = step(dataset)\n",
    "\n",
    "\t\tif iteration % print_every == 0:\n",
    "\t\t\tprint(\"{}, Epoch: {}, Loss: {:.4e}, c: {:.4e}, br: {:.4e}, bv: {:.4e}\".format(get_time(), iteration, *list(loss)))"
   ]
  },
  {
   "cell_type": "code",
   "execution_count": 4,
   "metadata": {},
   "outputs": [],
   "source": [
    "np.random.seed(1)\n",
    "x_c = transform(np.random.random((1000, 1)), -1, 1)\n",
    "\n",
    "f = lambda x: x**2 + x\n",
    "x_b = np.array([-1, 1]).reshape((-1, 1))\n",
    "y_b = f(x_b)\n",
    "\n",
    "dataset = cast_to_tf_constant([x_b, y_b, x_c])"
   ]
  },
  {
   "cell_type": "code",
   "execution_count": 5,
   "metadata": {
    "scrolled": true
   },
   "outputs": [
    {
     "name": "stdout",
     "output_type": "stream",
     "text": [
      "WARNING:tensorflow:Calling GradientTape.gradient on a persistent tape inside its context is significantly less efficient than calling it outside the context (it causes the gradient ops to be recorded on the tape, leading to increased CPU and memory usage). Only call GradientTape.gradient inside the context if you actually want to trace the gradient in order to compute higher order derivatives.\n",
      "WARNING:tensorflow:Calling GradientTape.gradient on a persistent tape inside its context is significantly less efficient than calling it outside the context (it causes the gradient ops to be recorded on the tape, leading to increased CPU and memory usage). Only call GradientTape.gradient inside the context if you actually want to trace the gradient in order to compute higher order derivatives.\n",
      "2020/07/19, 03:22:22, Epoch: 100, Loss: 8.1718e+00, c: 4.0622e+00, br: 4.0592e+00, bv: 5.0392e-02\n",
      "2020/07/19, 03:22:26, Epoch: 200, Loss: 8.1059e+00, c: 4.0487e+00, br: 4.0470e+00, bv: 1.0156e-02\n",
      "2020/07/19, 03:22:30, Epoch: 300, Loss: 8.0824e+00, c: 4.0382e+00, br: 4.0371e+00, bv: 7.1555e-03\n",
      "2020/07/19, 03:22:34, Epoch: 400, Loss: 8.0560e+00, c: 4.0256e+00, br: 4.0252e+00, bv: 5.1607e-03\n",
      "2020/07/19, 03:22:39, Epoch: 500, Loss: 7.9150e+00, c: 3.9527e+00, br: 3.9593e+00, bv: 3.0500e-03\n",
      "2020/07/19, 03:22:43, Epoch: 600, Loss: 1.9774e+00, c: 5.3331e-01, br: 1.4358e+00, bv: 8.2602e-03\n",
      "2020/07/19, 03:22:47, Epoch: 700, Loss: 1.1303e-01, c: 5.2972e-02, br: 5.9916e-02, bv: 1.4686e-04\n",
      "2020/07/19, 03:22:51, Epoch: 800, Loss: 7.5697e-02, c: 3.7707e-02, br: 3.7885e-02, bv: 1.0498e-04\n",
      "2020/07/19, 03:22:55, Epoch: 900, Loss: 5.7767e-02, c: 2.9972e-02, br: 2.7722e-02, bv: 7.3009e-05\n",
      "2020/07/19, 03:22:59, Epoch: 1000, Loss: 4.7225e-02, c: 2.5134e-02, br: 2.2027e-02, bv: 6.3688e-05\n",
      "2020/07/19, 03:23:04, Epoch: 1100, Loss: 4.1409e-02, c: 2.1804e-02, br: 1.7943e-02, bv: 1.6630e-03\n",
      "2020/07/19, 03:23:08, Epoch: 1200, Loss: 3.4485e-02, c: 1.8993e-02, br: 1.5456e-02, bv: 3.6104e-05\n",
      "2020/07/19, 03:23:12, Epoch: 1300, Loss: 3.0271e-02, c: 1.6850e-02, br: 1.3259e-02, bv: 1.6268e-04\n",
      "2020/07/19, 03:23:16, Epoch: 1400, Loss: 2.6554e-02, c: 1.4984e-02, br: 1.1544e-02, bv: 2.5114e-05\n",
      "2020/07/19, 03:23:20, Epoch: 1500, Loss: 2.3466e-02, c: 1.3376e-02, br: 1.0060e-02, bv: 3.0425e-05\n",
      "2020/07/19, 03:23:25, Epoch: 1600, Loss: 2.0670e-02, c: 1.1898e-02, br: 8.7548e-03, bv: 1.7191e-05\n",
      "2020/07/19, 03:23:29, Epoch: 1700, Loss: 1.8156e-02, c: 1.0533e-02, br: 7.6025e-03, bv: 2.0503e-05\n",
      "2020/07/19, 03:23:33, Epoch: 1800, Loss: 1.5743e-02, c: 9.2269e-03, br: 6.5045e-03, bv: 1.1540e-05\n",
      "2020/07/19, 03:23:37, Epoch: 1900, Loss: 1.3503e-02, c: 7.9686e-03, br: 5.5166e-03, bv: 1.7428e-05\n",
      "2020/07/19, 03:23:41, Epoch: 2000, Loss: 1.1303e-02, c: 6.7377e-03, br: 4.5587e-03, bv: 7.0375e-06\n",
      "2020/07/19, 03:23:46, Epoch: 2100, Loss: 9.3485e-03, c: 5.5430e-03, br: 3.6369e-03, bv: 1.6863e-04\n",
      "2020/07/19, 03:23:50, Epoch: 2200, Loss: 7.2048e-03, c: 4.3591e-03, br: 2.8419e-03, bv: 3.7259e-06\n",
      "2020/07/19, 03:23:54, Epoch: 2300, Loss: 5.6082e-03, c: 3.2819e-03, br: 2.0747e-03, bv: 2.5161e-04\n",
      "2020/07/19, 03:23:58, Epoch: 2400, Loss: 3.7938e-03, c: 2.3150e-03, br: 1.4774e-03, bv: 1.4922e-06\n",
      "2020/07/19, 03:24:02, Epoch: 2500, Loss: 2.4727e-03, c: 1.5085e-03, br: 9.6336e-04, bv: 8.7263e-07\n",
      "2020/07/19, 03:24:07, Epoch: 2600, Loss: 1.5098e-03, c: 9.0808e-04, br: 5.9304e-04, bv: 8.7078e-06\n",
      "2020/07/19, 03:24:11, Epoch: 2700, Loss: 8.3571e-04, c: 4.9974e-04, br: 3.3573e-04, bv: 2.3479e-07\n",
      "2020/07/19, 03:24:15, Epoch: 2800, Loss: 1.4636e-03, c: 2.6043e-04, br: 1.6558e-04, bv: 1.0376e-03\n",
      "2020/07/19, 03:24:19, Epoch: 2900, Loss: 2.1703e-04, c: 1.2267e-04, br: 9.4316e-05, bv: 3.7372e-08\n",
      "2020/07/19, 03:24:23, Epoch: 3000, Loss: 1.0675e-04, c: 5.8706e-05, br: 4.8034e-05, bv: 1.5114e-08\n",
      "2020/07/19, 03:24:28, Epoch: 3100, Loss: 1.0615e-04, c: 3.1265e-05, br: 2.6239e-05, bv: 4.8642e-05\n",
      "2020/07/19, 03:24:32, Epoch: 3200, Loss: 3.5761e-05, c: 2.1651e-05, br: 1.4108e-05, bv: 2.5818e-09\n",
      "2020/07/19, 03:24:36, Epoch: 3300, Loss: 1.2357e-04, c: 1.8009e-05, br: 9.8237e-06, bv: 9.5734e-05\n",
      "2020/07/19, 03:24:40, Epoch: 3400, Loss: 2.4169e-05, c: 1.8032e-05, br: 6.1275e-06, bv: 9.6895e-09\n",
      "2020/07/19, 03:24:44, Epoch: 3500, Loss: 2.0971e-04, c: 1.8450e-05, br: 4.2211e-06, bv: 1.8704e-04\n",
      "2020/07/19, 03:24:48, Epoch: 3600, Loss: 2.2440e-05, c: 1.8382e-05, br: 4.0076e-06, bv: 5.0158e-08\n",
      "2020/07/19, 03:24:53, Epoch: 3700, Loss: 2.2146e-05, c: 1.8582e-05, br: 3.5392e-06, bv: 2.4713e-08\n",
      "2020/07/19, 03:24:57, Epoch: 3800, Loss: 2.2076e-05, c: 1.8577e-05, br: 3.4516e-06, bv: 4.6849e-08\n",
      "2020/07/19, 03:25:01, Epoch: 3900, Loss: 2.1900e-05, c: 1.8701e-05, br: 3.1906e-06, bv: 8.3525e-09\n",
      "2020/07/19, 03:25:05, Epoch: 4000, Loss: 4.1132e-04, c: 1.7455e-05, br: 5.3257e-06, bv: 3.8854e-04\n",
      "2020/07/19, 03:25:09, Epoch: 4100, Loss: 2.1786e-05, c: 1.8646e-05, br: 3.0883e-06, bv: 5.2684e-08\n",
      "2020/07/19, 03:25:13, Epoch: 4200, Loss: 1.7089e-04, c: 1.8867e-05, br: 2.6427e-06, bv: 1.4938e-04\n",
      "2020/07/19, 03:25:18, Epoch: 4300, Loss: 2.1600e-05, c: 1.8583e-05, br: 2.9860e-06, bv: 3.0812e-08\n",
      "2020/07/19, 03:25:22, Epoch: 4400, Loss: 8.2777e-05, c: 1.8252e-05, br: 3.4524e-06, bv: 6.1073e-05\n",
      "2020/07/19, 03:25:26, Epoch: 4500, Loss: 2.1428e-05, c: 1.8513e-05, br: 2.9087e-06, bv: 6.1617e-09\n",
      "2020/07/19, 03:25:30, Epoch: 4600, Loss: 4.7436e-05, c: 1.8509e-05, br: 2.7630e-06, bv: 2.6164e-05\n",
      "2020/07/19, 03:25:34, Epoch: 4700, Loss: 2.1297e-05, c: 1.8427e-05, br: 2.8680e-06, bv: 2.2046e-09\n",
      "2020/07/19, 03:25:39, Epoch: 4800, Loss: 2.1570e-05, c: 1.8384e-05, br: 2.9000e-06, bv: 2.8673e-07\n",
      "2020/07/19, 03:25:43, Epoch: 4900, Loss: 2.1200e-05, c: 1.8341e-05, br: 2.8439e-06, bv: 1.5431e-08\n",
      "2020/07/19, 03:25:47, Epoch: 5000, Loss: 3.4175e-04, c: 1.7078e-05, br: 4.9810e-06, bv: 3.1969e-04\n",
      "2020/07/19, 03:25:51, Epoch: 5100, Loss: 2.1099e-05, c: 1.8250e-05, br: 2.8400e-06, bv: 8.6756e-09\n",
      "2020/07/19, 03:25:55, Epoch: 5200, Loss: 2.1026e-05, c: 1.8289e-05, br: 2.7269e-06, bv: 1.0762e-08\n",
      "2020/07/19, 03:25:59, Epoch: 5300, Loss: 2.1269e-05, c: 1.8171e-05, br: 2.8497e-06, bv: 2.4822e-07\n",
      "2020/07/19, 03:26:04, Epoch: 5400, Loss: 2.0942e-05, c: 1.8206e-05, br: 2.7361e-06, bv: 7.6672e-11\n",
      "2020/07/19, 03:26:08, Epoch: 5500, Loss: 5.8006e-04, c: 1.8982e-05, br: 1.6332e-06, bv: 5.5945e-04\n",
      "2020/07/19, 03:26:12, Epoch: 5600, Loss: 2.1216e-05, c: 1.8096e-05, br: 2.7744e-06, bv: 3.4563e-07\n",
      "2020/07/19, 03:26:16, Epoch: 5700, Loss: 2.0814e-05, c: 1.8164e-05, br: 2.6489e-06, bv: 1.8321e-09\n",
      "2020/07/19, 03:26:20, Epoch: 5800, Loss: 6.6313e-05, c: 1.7812e-05, br: 3.1606e-06, bv: 4.5341e-05\n",
      "2020/07/19, 03:26:25, Epoch: 5900, Loss: 2.0750e-05, c: 1.8094e-05, br: 2.6539e-06, bv: 2.8312e-09\n",
      "2020/07/19, 03:26:29, Epoch: 6000, Loss: 1.9948e-04, c: 1.7678e-05, br: 3.3815e-06, bv: 1.7842e-04\n",
      "2020/07/19, 03:26:33, Epoch: 6100, Loss: 2.0706e-05, c: 1.8057e-05, br: 2.6290e-06, bv: 1.9747e-08\n",
      "2020/07/19, 03:26:37, Epoch: 6200, Loss: 2.4671e-05, c: 1.7000e-05, br: 4.0446e-06, bv: 3.6267e-06\n",
      "2020/07/19, 03:26:41, Epoch: 6300, Loss: 2.0718e-05, c: 1.8005e-05, br: 2.6400e-06, bv: 7.3045e-08\n",
      "2020/07/19, 03:26:45, Epoch: 6400, Loss: 2.1271e-05, c: 1.8049e-05, br: 2.5465e-06, bv: 6.7521e-07\n",
      "2020/07/19, 03:26:50, Epoch: 6500, Loss: 2.3052e-05, c: 1.7927e-05, br: 2.6821e-06, bv: 2.4433e-06\n",
      "2020/07/19, 03:26:54, Epoch: 6600, Loss: 2.2672e-05, c: 1.8106e-05, br: 2.4536e-06, bv: 2.1129e-06\n",
      "2020/07/19, 03:26:58, Epoch: 6700, Loss: 2.6925e-04, c: 1.7627e-05, br: 3.2616e-06, bv: 2.4836e-04\n",
      "2020/07/19, 03:27:02, Epoch: 6800, Loss: 2.0588e-05, c: 1.7941e-05, br: 2.5888e-06, bv: 5.7469e-08\n",
      "2020/07/19, 03:27:06, Epoch: 6900, Loss: 2.0524e-05, c: 1.8027e-05, br: 2.4456e-06, bv: 5.1329e-08\n",
      "2020/07/19, 03:27:10, Epoch: 7000, Loss: 2.3015e-05, c: 1.7881e-05, br: 2.6627e-06, bv: 2.4713e-06\n",
      "2020/07/19, 03:27:15, Epoch: 7100, Loss: 2.0452e-05, c: 1.7992e-05, br: 2.4594e-06, bv: 1.8912e-10\n",
      "2020/07/19, 03:27:19, Epoch: 7200, Loss: 1.3245e-03, c: 1.8576e-05, br: 1.7990e-06, bv: 1.3041e-03\n",
      "2020/07/19, 03:27:23, Epoch: 7300, Loss: 2.0477e-05, c: 1.7894e-05, br: 2.5814e-06, bv: 1.5523e-09\n",
      "2020/07/19, 03:27:27, Epoch: 7400, Loss: 2.0416e-05, c: 1.8010e-05, br: 2.4054e-06, bv: 2.2623e-11\n",
      "2020/07/19, 03:27:31, Epoch: 7500, Loss: 7.9424e-03, c: 2.0456e-05, br: 2.5187e-07, bv: 7.9217e-03\n"
     ]
    },
    {
     "name": "stdout",
     "output_type": "stream",
     "text": [
      "2020/07/19, 03:27:35, Epoch: 7600, Loss: 2.0546e-05, c: 1.7900e-05, br: 2.5115e-06, bv: 1.3437e-07\n",
      "2020/07/19, 03:27:39, Epoch: 7700, Loss: 2.0363e-05, c: 1.7997e-05, br: 2.3617e-06, bv: 4.9454e-09\n",
      "2020/07/19, 03:27:44, Epoch: 7800, Loss: 3.0612e-05, c: 1.7703e-05, br: 2.7495e-06, bv: 1.0159e-05\n",
      "2020/07/19, 03:27:48, Epoch: 7900, Loss: 2.0330e-05, c: 1.7961e-05, br: 2.3688e-06, bv: 4.8068e-11\n",
      "2020/07/19, 03:27:52, Epoch: 8000, Loss: 2.2311e-05, c: 1.7755e-05, br: 2.6730e-06, bv: 1.8834e-06\n",
      "2020/07/19, 03:27:56, Epoch: 8100, Loss: 2.0322e-05, c: 1.7958e-05, br: 2.3632e-06, bv: 7.1159e-10\n",
      "2020/07/19, 03:28:00, Epoch: 8200, Loss: 1.3717e-03, c: 1.8499e-05, br: 1.6495e-06, bv: 1.3515e-03\n",
      "2020/07/19, 03:28:05, Epoch: 8300, Loss: 2.0394e-05, c: 1.7884e-05, br: 2.4517e-06, bv: 5.8357e-08\n",
      "2020/07/19, 03:28:09, Epoch: 8400, Loss: 8.4500e-05, c: 1.8355e-05, br: 2.2875e-06, bv: 6.3857e-05\n",
      "2020/07/19, 03:28:13, Epoch: 8500, Loss: 2.0306e-05, c: 1.7862e-05, br: 2.4376e-06, bv: 6.4207e-09\n",
      "2020/07/19, 03:28:17, Epoch: 8600, Loss: 9.9601e-05, c: 1.7087e-05, br: 3.8087e-06, bv: 7.8705e-05\n",
      "2020/07/19, 03:28:21, Epoch: 8700, Loss: 2.0299e-05, c: 1.7890e-05, br: 2.3783e-06, bv: 3.0674e-08\n",
      "2020/07/19, 03:28:25, Epoch: 8800, Loss: 2.9413e-03, c: 1.8964e-05, br: 3.9457e-06, bv: 2.9184e-03\n",
      "2020/07/19, 03:28:29, Epoch: 8900, Loss: 2.0280e-05, c: 1.7864e-05, br: 2.4059e-06, bv: 1.0218e-08\n",
      "2020/07/19, 03:28:34, Epoch: 9000, Loss: 2.0817e-05, c: 1.7982e-05, br: 2.2196e-06, bv: 6.1488e-07\n",
      "2020/07/19, 03:28:38, Epoch: 9100, Loss: 2.2676e-05, c: 1.7823e-05, br: 2.4316e-06, bv: 2.4216e-06\n",
      "2020/07/19, 03:28:42, Epoch: 9200, Loss: 2.0209e-05, c: 1.7948e-05, br: 2.2616e-06, bv: 1.9445e-10\n",
      "2020/07/19, 03:28:46, Epoch: 9300, Loss: 3.8640e-05, c: 1.7748e-05, br: 2.4978e-06, bv: 1.8394e-05\n",
      "2020/07/19, 03:28:50, Epoch: 9400, Loss: 2.0212e-05, c: 1.7927e-05, br: 2.2840e-06, bv: 7.4820e-10\n",
      "2020/07/19, 03:28:55, Epoch: 9500, Loss: 3.4555e-04, c: 1.7019e-05, br: 6.8440e-06, bv: 3.2169e-04\n",
      "2020/07/19, 03:28:59, Epoch: 9600, Loss: 2.0308e-05, c: 1.7872e-05, br: 2.3408e-06, bv: 9.5177e-08\n",
      "2020/07/19, 03:29:03, Epoch: 9700, Loss: 2.0164e-05, c: 1.7948e-05, br: 2.2131e-06, bv: 3.1549e-09\n",
      "2020/07/19, 03:29:07, Epoch: 9800, Loss: 2.0930e-05, c: 1.7616e-05, br: 2.6891e-06, bv: 6.2458e-07\n",
      "2020/07/19, 03:29:11, Epoch: 9900, Loss: 2.0189e-05, c: 1.7939e-05, br: 2.2487e-06, bv: 4.7011e-10\n",
      "2020/07/19, 03:29:15, Epoch: 10000, Loss: 5.2106e-05, c: 1.8106e-05, br: 1.9571e-06, bv: 3.2043e-05\n",
      "Avg duration per epoch: 0.041790855836868285\n"
     ]
    }
   ],
   "source": [
    "optimizer = keras.optimizers.Adam(lr = 1e-4)\n",
    "w_c = w_br = w_bv = 1.0\n",
    "iterations = 10000\n",
    "import time\n",
    "start_time = time.time()\n",
    "train(iterations, 0, dataset, 100)\n",
    "end_time = time.time()\n",
    "print(\"Avg duration per epoch:\", (end_time-start_time)/iterations)"
   ]
  },
  {
   "cell_type": "code",
   "execution_count": 6,
   "metadata": {},
   "outputs": [
    {
     "data": {
      "image/png": "[encoded data removed]",
      "text/plain": [
       "<Figure size 640x480 with 1 Axes>"
      ]
     },
     "metadata": {},
     "output_type": "display_data"
    }
   ],
   "source": [
    "x_test = tf.constant(np.linspace(-1, 1, 100).reshape((-1, 1)), dtype = tf.float32)\n",
    "y_test = f(x_test)\n",
    "y_pred = model(x_test)\n",
    "\n",
    "import matplotlib.pyplot as plt\n",
    "plt.plot(x_test, y_test, label = \"true\")\n",
    "plt.plot(x_test, y_pred, label = \"pred\")\n",
    "plt.title(\"MSE: {}\".format(np.mean((y_test - y_pred)**2)))\n",
    "plt.legend()\n",
    "plt.show()"
   ]
  },
  {
   "cell_type": "code",
   "execution_count": null,
   "metadata": {},
   "outputs": [],
   "source": []
  }
 ],
 "metadata": {
  "kernelspec": {
   "display_name": "Python 3",
   "language": "python",
   "name": "python3"
  },
  "language_info": {
   "codemirror_mode": {
    "name": "ipython",
    "version": 3
   },
   "file_extension": ".py",
   "mimetype": "text/x-python",
   "name": "python",
   "nbconvert_exporter": "python",
   "pygments_lexer": "ipython3",
   "version": "3.8.3"
  }
 },
 "nbformat": 4,
 "nbformat_minor": 4
}
