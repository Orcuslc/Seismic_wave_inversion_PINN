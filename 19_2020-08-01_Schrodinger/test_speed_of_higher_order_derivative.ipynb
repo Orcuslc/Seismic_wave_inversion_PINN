{
 "cells": [
  {
   "cell_type": "code",
   "execution_count": 1,
   "metadata": {},
   "outputs": [],
   "source": [
    "import jax, jax.nn\n",
    "from jax import random\n",
    "import jax.numpy as jnp\n",
    "from jax.experimental import optimizers\n",
    "\n",
    "from collections import namedtuple"
   ]
  },
  {
   "cell_type": "code",
   "execution_count": 2,
   "metadata": {},
   "outputs": [],
   "source": [
    "def siren_layer_params(key, scale, m, n):\n",
    "\tw_key, b_key = random.split(key)\n",
    "\treturn random.uniform(w_key, (m, n), jnp.float32, minval = -scale, maxval = scale), jnp.zeros((n, ), jnp.float32)\n",
    "\n",
    "def init_siren_params(key, layers, c0, w0):\n",
    "\tkeys = random.split(key, len(layers))\n",
    "\treturn [siren_layer_params(keys[0], w0*jnp.sqrt(c0/layers[0]), layers[0], layers[1])] + \\\n",
    "\t\t\t[siren_layer_params(k, jnp.sqrt(c0/m), m, n) for m, n, k in zip(layers[1:-1], layers[2:], keys[1:])]\n",
    "\n",
    "layers = [2, 128, 2] # (x, t) -> (u, v)\n",
    "params = init_siren_params(random.PRNGKey(0), layers, 1.0, 1.0)"
   ]
  },
  {
   "cell_type": "code",
   "execution_count": 14,
   "metadata": {},
   "outputs": [],
   "source": [
    "@jax.jit\n",
    "def scalar_u_model(params, x, t):\n",
    "\tx_ = jnp.hstack([x, t])\n",
    "\tfor w, b in params[:-1]:\n",
    "\t\tx_ = jnp.sin(jnp.dot(x_, w) + b)\n",
    "\treturn jnp.sum(jnp.dot(x_, params[-1][0][:, 0:1]) + params[-1][1][0])\n",
    "\n",
    "@jax.jit\n",
    "def scalar_v_model(params, x, t):\n",
    "\tx_ = jnp.hstack([x, t])\n",
    "\tfor w, b in params[:-1]:\n",
    "\t\tx_ = jnp.sin(jnp.dot(x_, w) + b)\n",
    "\treturn jnp.sum(jnp.dot(x_, params[-1][0][:, 1:2]) + params[-1][1][1])\n",
    "\n",
    "u_model = jax.jit(jax.vmap(scalar_u_model, in_axes = (None, 0, 0)))\n",
    "v_model = jax.jit(jax.vmap(scalar_v_model, in_axes = (None, 0, 0)))\n",
    "\n",
    "@jax.jit\n",
    "def uv_model(params, x):\n",
    "\tfor w, b in params[:-1]:\n",
    "\t\tx = jnp.sin(jnp.dot(x, w) + b)\n",
    "\treturn jnp.dot(x, params[-1][0]) + params[-1][1]\n",
    "\n",
    "uv_m = jax.vmap(uv_model, (None, 0))"
   ]
  },
  {
   "cell_type": "code",
   "execution_count": 15,
   "metadata": {},
   "outputs": [],
   "source": [
    "x = jnp.ones((10, 1))\n",
    "t = jnp.ones((10, 1))*0.1\n",
    "xt = jnp.hstack([x, t])"
   ]
  },
  {
   "cell_type": "code",
   "execution_count": 16,
   "metadata": {},
   "outputs": [
    {
     "data": {
      "text/plain": [
       "DeviceArray(5.551115e-16, dtype=float32)"
      ]
     },
     "execution_count": 16,
     "metadata": {},
     "output_type": "execute_result"
    }
   ],
   "source": [
    "u_ = u_model(params, x, t).reshape((-1, 1))\n",
    "v_ = v_model(params, x, t).reshape((-1, 1))\n",
    "uv_ = uv_model(params, xt)\n",
    "uv_ = uv_m(params, xt)\n",
    "jnp.sum(jnp.square(jnp.hstack([u_, v_]) - uv_))"
   ]
  },
  {
   "cell_type": "code",
   "execution_count": 71,
   "metadata": {},
   "outputs": [],
   "source": [
    "@jax.jit\n",
    "def duv_dxt1(params, xt):\n",
    "\treturn jax.vmap(jax.jacfwd(uv_model, 1), (None, 0))(params, xt)\n",
    "\n",
    "@jax.jit\n",
    "def duv_dxt2(params, xt):\n",
    "\treturn  jax.vmap(jax.jacrev(uv_model, 1), (None, 0))(params, xt)\n",
    "\n",
    "hessian_uv = jax.jit(jax.vmap(jax.hessian(uv_model, 1), (None, 0)))\n",
    "jacobian_uv = jax.jit(jax.vmap(jax.jacobian(uv_model, 1), (None, 0)))"
   ]
  },
  {
   "cell_type": "code",
   "execution_count": 67,
   "metadata": {},
   "outputs": [
    {
     "data": {
      "text/plain": [
       "(10, 2, 2, 2)"
      ]
     },
     "execution_count": 67,
     "metadata": {},
     "output_type": "execute_result"
    }
   ],
   "source": [
    "hessian_uv(params, xt).shape"
   ]
  },
  {
   "cell_type": "code",
   "execution_count": 66,
   "metadata": {},
   "outputs": [
    {
     "name": "stdout",
     "output_type": "stream",
     "text": [
      "196 µs ± 260 ns per loop (mean ± std. dev. of 7 runs, 1000 loops each)\n"
     ]
    }
   ],
   "source": [
    "%timeit hessian_uv(params, xt).block_until_ready()"
   ]
  },
  {
   "cell_type": "code",
   "execution_count": 72,
   "metadata": {},
   "outputs": [
    {
     "name": "stdout",
     "output_type": "stream",
     "text": [
      "193 µs ± 309 ns per loop (mean ± std. dev. of 7 runs, 10000 loops each)\n",
      "188 µs ± 214 ns per loop (mean ± std. dev. of 7 runs, 10000 loops each)\n",
      "189 µs ± 193 ns per loop (mean ± std. dev. of 7 runs, 10000 loops each)\n"
     ]
    }
   ],
   "source": [
    "%timeit duv_dxt1(params, xt).block_until_ready()\n",
    "%timeit duv_dxt2(params, xt).block_until_ready()\n",
    "%timeit jacobian_uv(params, xt).block_until_ready()"
   ]
  },
  {
   "cell_type": "code",
   "execution_count": 26,
   "metadata": {},
   "outputs": [
    {
     "name": "stdout",
     "output_type": "stream",
     "text": [
      "1.53 ms ± 31.8 µs per loop (mean ± std. dev. of 7 runs, 1000 loops each)\n"
     ]
    }
   ],
   "source": [
    "%timeit jax.vmap(jax.jacfwd(uv_model, 1), (None, 0))(params, xt).block_until_ready()"
   ]
  },
  {
   "cell_type": "code",
   "execution_count": 27,
   "metadata": {},
   "outputs": [
    {
     "name": "stdout",
     "output_type": "stream",
     "text": [
      "1.9 ms ± 22.5 µs per loop (mean ± std. dev. of 7 runs, 1000 loops each)\n"
     ]
    }
   ],
   "source": [
    "%timeit jax.vmap(jax.jacrev(uv_model, 1), (None, 0))(params, xt).block_until_ready()"
   ]
  },
  {
   "cell_type": "code",
   "execution_count": 68,
   "metadata": {},
   "outputs": [],
   "source": [
    "@jax.jit\n",
    "def scalar_du_dx(params, x, t):\n",
    "    return jnp.sum(jax.grad(scalar_u_model, 1)(params, x, t))\n",
    "\n",
    "@jax.jit\n",
    "def scalar_du_dy(params, x, t):\n",
    "    return jnp.sum(jax.grad(scalar_u_model, 2)(params, x, t))\n",
    "\n",
    "@jax.jit\n",
    "def scalar_dv_dx(params, x, t):\n",
    "    return jnp.sum(jax.grad(scalar_v_model, 1)(params, x, t))\n",
    "\n",
    "@jax.jit\n",
    "def scalar_dv_dy(params, x, t):\n",
    "    return jnp.sum(jax.grad(scalar_v_model, 2)(params, x, t))\n",
    "\n",
    "du_dx = jax.jit(jax.vmap(scalar_du_dx, in_axes = (None, 0, 0)))\n",
    "du_dy = jax.jit(jax.vmap(scalar_du_dy, in_axes = (None, 0, 0)))\n",
    "dv_dx = jax.jit(jax.vmap(scalar_dv_dx, in_axes = (None, 0, 0)))\n",
    "dv_dy = jax.jit(jax.vmap(scalar_dv_dy, in_axes = (None, 0, 0)))\n",
    "\n",
    "@jax.jit\n",
    "def du_dxx(params, x, t):\n",
    "    return jax.grad(scalar_du_dx, 1)(params, x, t)\n",
    "\n",
    "@jax.jit\n",
    "def du_dyy(params, x, t):\n",
    "    return jax.grad(scalar_du_dy, 2)(params, x, t)"
   ]
  },
  {
   "cell_type": "code",
   "execution_count": 40,
   "metadata": {},
   "outputs": [
    {
     "name": "stdout",
     "output_type": "stream",
     "text": [
      "230 µs ± 225 ns per loop (mean ± std. dev. of 7 runs, 1000 loops each)\n",
      "229 µs ± 284 ns per loop (mean ± std. dev. of 7 runs, 1000 loops each)\n",
      "228 µs ± 211 ns per loop (mean ± std. dev. of 7 runs, 1000 loops each)\n",
      "230 µs ± 470 ns per loop (mean ± std. dev. of 7 runs, 1000 loops each)\n"
     ]
    }
   ],
   "source": [
    "%timeit du_dx(params, x, t).block_until_ready()\n",
    "%timeit du_dy(params, x, t).block_until_ready()\n",
    "%timeit dv_dx(params, x, t).block_until_ready()\n",
    "%timeit dv_dy(params, x, t).block_until_ready()"
   ]
  },
  {
   "cell_type": "code",
   "execution_count": 70,
   "metadata": {},
   "outputs": [
    {
     "name": "stdout",
     "output_type": "stream",
     "text": [
      "238 µs ± 348 ns per loop (mean ± std. dev. of 7 runs, 1000 loops each)\n"
     ]
    }
   ],
   "source": [
    "%timeit du_dxx(params, x, t).block_until_ready()"
   ]
  },
  {
   "cell_type": "code",
   "execution_count": 141,
   "metadata": {},
   "outputs": [],
   "source": [
    "params = jnp.array([[1., 2.], [3., 4.]])\n",
    "x = jnp.ones((10, 1))\n",
    "t = x*2\n",
    "xt = jnp.hstack([x, t])\n",
    "\n",
    "def model(params, xt):\n",
    "\treturn jnp.square(jnp.dot(xt, params))\n",
    "\n",
    "jacobian = lambda params, xt: jax.jit(jax.vmap(jax.jacobian(model, 1), (None, 0)))(params, xt)\n",
    "hessian = lambda params, xt: jax.jit(jax.vmap(jax.hessian(model, 1), (None, 0)))(params, xt)"
   ]
  },
  {
   "cell_type": "code",
   "execution_count": 138,
   "metadata": {},
   "outputs": [
    {
     "data": {
      "text/plain": [
       "DeviceArray([[ 49., 100.],\n",
       "             [ 49., 100.],\n",
       "             [ 49., 100.],\n",
       "             [ 49., 100.],\n",
       "             [ 49., 100.],\n",
       "             [ 49., 100.],\n",
       "             [ 49., 100.],\n",
       "             [ 49., 100.],\n",
       "             [ 49., 100.],\n",
       "             [ 49., 100.]], dtype=float32)"
      ]
     },
     "execution_count": 138,
     "metadata": {},
     "output_type": "execute_result"
    }
   ],
   "source": [
    "jax.vmap(model, (None, 0))(params, xt)"
   ]
  },
  {
   "cell_type": "code",
   "execution_count": 139,
   "metadata": {},
   "outputs": [
    {
     "data": {
      "text/plain": [
       "DeviceArray([[[14., 42.],\n",
       "              [40., 80.]],\n",
       "\n",
       "             [[14., 42.],\n",
       "              [40., 80.]],\n",
       "\n",
       "             [[14., 42.],\n",
       "              [40., 80.]],\n",
       "\n",
       "             [[14., 42.],\n",
       "              [40., 80.]],\n",
       "\n",
       "             [[14., 42.],\n",
       "              [40., 80.]],\n",
       "\n",
       "             [[14., 42.],\n",
       "              [40., 80.]],\n",
       "\n",
       "             [[14., 42.],\n",
       "              [40., 80.]],\n",
       "\n",
       "             [[14., 42.],\n",
       "              [40., 80.]],\n",
       "\n",
       "             [[14., 42.],\n",
       "              [40., 80.]],\n",
       "\n",
       "             [[14., 42.],\n",
       "              [40., 80.]]], dtype=float32)"
      ]
     },
     "execution_count": 139,
     "metadata": {},
     "output_type": "execute_result"
    }
   ],
   "source": [
    "jacobian(params, xt)"
   ]
  },
  {
   "cell_type": "code",
   "execution_count": 144,
   "metadata": {},
   "outputs": [
    {
     "data": {
      "text/plain": [
       "DeviceArray([[[[ 2.,  6.],\n",
       "               [ 6., 18.]],\n",
       "\n",
       "              [[ 8., 16.],\n",
       "               [16., 32.]]],\n",
       "\n",
       "\n",
       "             [[[ 2.,  6.],\n",
       "               [ 6., 18.]],\n",
       "\n",
       "              [[ 8., 16.],\n",
       "               [16., 32.]]],\n",
       "\n",
       "\n",
       "             [[[ 2.,  6.],\n",
       "               [ 6., 18.]],\n",
       "\n",
       "              [[ 8., 16.],\n",
       "               [16., 32.]]],\n",
       "\n",
       "\n",
       "             [[[ 2.,  6.],\n",
       "               [ 6., 18.]],\n",
       "\n",
       "              [[ 8., 16.],\n",
       "               [16., 32.]]],\n",
       "\n",
       "\n",
       "             [[[ 2.,  6.],\n",
       "               [ 6., 18.]],\n",
       "\n",
       "              [[ 8., 16.],\n",
       "               [16., 32.]]],\n",
       "\n",
       "\n",
       "             [[[ 2.,  6.],\n",
       "               [ 6., 18.]],\n",
       "\n",
       "              [[ 8., 16.],\n",
       "               [16., 32.]]],\n",
       "\n",
       "\n",
       "             [[[ 2.,  6.],\n",
       "               [ 6., 18.]],\n",
       "\n",
       "              [[ 8., 16.],\n",
       "               [16., 32.]]],\n",
       "\n",
       "\n",
       "             [[[ 2.,  6.],\n",
       "               [ 6., 18.]],\n",
       "\n",
       "              [[ 8., 16.],\n",
       "               [16., 32.]]],\n",
       "\n",
       "\n",
       "             [[[ 2.,  6.],\n",
       "               [ 6., 18.]],\n",
       "\n",
       "              [[ 8., 16.],\n",
       "               [16., 32.]]],\n",
       "\n",
       "\n",
       "             [[[ 2.,  6.],\n",
       "               [ 6., 18.]],\n",
       "\n",
       "              [[ 8., 16.],\n",
       "               [16., 32.]]]], dtype=float32)"
      ]
     },
     "execution_count": 144,
     "metadata": {},
     "output_type": "execute_result"
    }
   ],
   "source": [
    "hessian(params, xt)"
   ]
  },
  {
   "cell_type": "code",
   "execution_count": null,
   "metadata": {},
   "outputs": [],
   "source": []
  },
  {
   "cell_type": "code",
   "execution_count": null,
   "metadata": {},
   "outputs": [],
   "source": []
  }
 ],
 "metadata": {
  "kernelspec": {
   "display_name": "Python 3",
   "language": "python",
   "name": "python3"
  },
  "language_info": {
   "codemirror_mode": {
    "name": "ipython",
    "version": 3
   },
   "file_extension": ".py",
   "mimetype": "text/x-python",
   "name": "python",
   "nbconvert_exporter": "python",
   "pygments_lexer": "ipython3",
   "version": "3.8.5"
  }
 },
 "nbformat": 4,
 "nbformat_minor": 4
}
