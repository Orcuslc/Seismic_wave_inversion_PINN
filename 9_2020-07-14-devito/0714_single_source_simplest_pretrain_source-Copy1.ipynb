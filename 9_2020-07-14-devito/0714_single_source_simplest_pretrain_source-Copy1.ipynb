{
 "cells": [
  {
   "cell_type": "markdown",
   "metadata": {},
   "source": [
    "# 2D Acoustic Wave\n",
    "---\n",
    "- Model Setup: [this link](https://github.com/devitocodes/devito/blob/master/examples/seismic/tutorials/01_modelling.ipynb)\n",
    "\n",
    "- target: $c^2$.\n",
    "\n",
    "- rescaling: $x' = x/1000, z' = z/1000, t' = t/1000$.\n",
    "\n",
    "---"
   ]
  },
  {
   "cell_type": "code",
   "execution_count": 1,
   "metadata": {},
   "outputs": [],
   "source": [
    "NAME = \"0714_single_source_simplest_pretrain_source\""
   ]
  },
  {
   "cell_type": "code",
   "execution_count": 2,
   "metadata": {},
   "outputs": [
    {
     "name": "stdout",
     "output_type": "stream",
     "text": [
      "[PhysicalDevice(name='/physical_device:GPU:0', device_type='GPU')]\n"
     ]
    }
   ],
   "source": [
    "import tensorflow as tf\n",
    "import numpy as np\n",
    "import tensorflow.keras as keras\n",
    "import tensorflow.keras.backend as K\n",
    "import matplotlib.pyplot as plt\n",
    "import time\n",
    "\n",
    "import sys\n",
    "sys.path.append(\"../../\")\n",
    "from Seismic_wave_inversion_PINN.tf_model_utils import *\n",
    "from Seismic_wave_inversion_PINN.data_utils import *\n",
    "from Seismic_wave_inversion_PINN.models import *\n",
    "\n",
    "plt.rcParams.update(plt.rcParamsDefault)\n",
    "tf.keras.backend.set_floatx(\"float32\")\n",
    "\n",
    "%load_ext autoreload\n",
    "%autoreload 2\n",
    "\n",
    "print(tf.config.list_physical_devices('GPU'))\n",
    "\n",
    "# from tensorflow.python.framework.ops import disable_eager_execution\n",
    "# disable_eager_execution()"
   ]
  },
  {
   "cell_type": "code",
   "execution_count": 3,
   "metadata": {},
   "outputs": [],
   "source": [
    "x0 = z0 = t0 = 1000"
   ]
  },
  {
   "cell_type": "code",
   "execution_count": 4,
   "metadata": {},
   "outputs": [],
   "source": [
    "# c = 30.0\n",
    "# w0 = 0.1 # since (x, z, t) in [0, 1000]**3\n",
    "# lambda_1 = 1e-4\n",
    "# direct_layers = [3, 128, 128, 128, 128, 1]\n",
    "# direct_model = siren_model(direct_layers, c, w0, lambda_1)\n",
    "\n",
    "# inverse_boundary = 500.0 / z0\n",
    "# inverse_values = [2.25, 2.25] # c^2, initialization\n",
    "# inverse_model = step_constant_model(inverse_boundary, inverse_values, [False, True])"
   ]
  },
  {
   "cell_type": "code",
   "execution_count": 4,
   "metadata": {},
   "outputs": [],
   "source": [
    "domain = [0.0, 1000.0]\n",
    "T_max = 1000.0\n",
    "x_s = 500.0\n",
    "z_s = 20.0\n",
    "\n",
    "# wave source\n",
    "f0 = 0.01\n",
    "\n",
    "@tf.function\n",
    "def q(x, z, t, x_s, z_s):\n",
    "\treturn tf.where(tf.math.logical_and(tf.equal(x, x_s), tf.equal(z, z_s)),\n",
    "                (1.0-2*np.pi**2*f0**2*(t - 1/f0)**2)*tf.exp(-np.pi**2*f0**2*(t-1/f0)**2),\n",
    "                0.0)"
   ]
  },
  {
   "cell_type": "code",
   "execution_count": 5,
   "metadata": {},
   "outputs": [],
   "source": [
    "loss_func = keras.losses.MeanAbsoluteError()\n",
    "loss_func_r = keras.losses.MeanAbsoluteError()\n",
    "loss_func_d = keras.losses.MeanAbsoluteError()\n",
    "\n",
    "def get_residue_loss(tape, p, c, x, z, t, x_s, z_s, initial = False): \n",
    "\tdp_dt = tape.gradient(p, t)\n",
    "\tdp_dx = tape.gradient(p, x)\n",
    "\tdp_dz = tape.gradient(p, z)\n",
    "\tdp_dtt = tape.gradient(dp_dt, t)\n",
    "\tdp_dxx = tape.gradient(dp_dx, x)\n",
    "\tdp_dzz = tape.gradient(dp_dz, z)\n",
    "\teq = loss_func_r((1/t0**2)*dp_dtt - c*((1/x0**2)*dp_dxx + (1/z0**2)*dp_dzz), c*q(x*x0, z*z0, t*t0, x_s*x0, z_s*z0))\n",
    "\tif initial:\n",
    "\t\tneumann = loss_func_r(dp_dt, 0.0)\n",
    "\t\treturn eq, neumann\n",
    "\telse:\n",
    "\t\treturn eq\n",
    "\t\n",
    "def step(batch):\n",
    "\twith tf.GradientTape(persistent = True) as tape:\n",
    "\t\ttape.watch(batch)\n",
    "\t\t[x_c, z_c, t_c, x_c_s, z_c_s,\n",
    "\t\tx_i, z_i, t_i, x_i_s, z_i_s, p_i,\n",
    "\t\tx_d, z_d, t_d, x_d_s, z_d_s, p_d] = batch\n",
    "\t\t\n",
    "\t\tout_c = direct_model(tf.concat([x_c, z_c, t_c], axis = 1))\n",
    "\t\tc_c = inverse_model(z_c)\n",
    "\t\tout_i = direct_model(tf.concat([x_i, z_i, t_i], axis = 1))\n",
    "\t\tc_i = inverse_model(z_i)\n",
    "\t\tout_d = direct_model(tf.concat([x_d, z_d, t_d], axis = 1))\n",
    "\t\tc_d = inverse_model(z_d)\n",
    "\t\t\n",
    "\t\tloss_c = get_residue_loss(tape, out_c, c_c, x_c, z_c, t_c, x_c_s, z_c_s)\n",
    "\t\tloss_ireq, loss_irn = get_residue_loss(tape, out_i, c_i, x_i, z_i, t_i, x_i_s, z_i_s, True)\n",
    "\t\tloss_dr = get_residue_loss(tape, out_d, c_d, x_d, z_d, t_d, x_d_s, z_d_s)\n",
    "\t\tloss_iv = loss_func(out_i, p_i)\n",
    "\t\tloss_dv = loss_func_d(out_d, p_d)\n",
    "\t\tloss = w_c*loss_c + w_ireq*loss_ireq + w_irn*loss_irn + w_dr*loss_dr + w_iv*loss_iv + w_dv*loss_dv\n",
    "\tgrads = tape.gradient(loss, direct_model.trainable_variables + inverse_model.trainable_variables)\n",
    "\toptimizer.apply_gradients(zip(grads, direct_model.trainable_variables + inverse_model.trainable_variables))\n",
    "\treturn loss, loss_c, loss_ireq, loss_irn, loss_dr, loss_iv, loss_dv\n",
    "\n",
    "def train(iterations, start_iteration, datasets, batch_sizes, print_every = 100, save_every = 10000, save_path = None):\n",
    "# \tshuffled = lambda datasets, batch_sizes: [tf.data.Dataset.from_tensor_slices(tuple(d)).shuffle(buffer_size = d[0].shape[0], \\\n",
    "#                                                         reshuffle_each_iteration = True).repeat().batch(batch_size) \\\n",
    "#                                         for (d, batch_size) in zip(datasets, batch_sizes)]\n",
    "\t\n",
    "# \tdata_s = shuffled(datasets, batch_sizes)\n",
    "\tdata_s = [batch_generator(dataset, batch_size) for (dataset, batch_size) in zip(datasets, batch_sizes)]\n",
    "\titeration = start_iteration\n",
    "# \tsession = tf.compat.v1.Session()\n",
    "# \twith session.as_default():\n",
    "\tfor dc, di, dd in zip(*data_s):\n",
    "\t\titeration += 1\n",
    "\t\tdi = list(di)\n",
    "\t\tdi[2] = tf.constant(transform(np.random.random(di[2].shape), 0.0, T_max*(iteration-start_iteration)/iterations), dtype = tf.float32)\n",
    "\t\tloss = step(list(dc) + list(di) + list(dd))\n",
    "\n",
    "\t\tif iteration % print_every == 0:\n",
    "\t\t\tprint(loss)\n",
    "\t\t\tprint(\"{}, Epoch: {}, Loss: {:.4e}, c: {:.4e}, ireq: {:.4e}, irn: {:.4e}, dr: {:.4e}, iv: {:.4e}, dv:{:.4e}\".format(get_time(), \\\n",
    "\t\t\t\t\t\t\t\titeration, *loss))\n",
    "\t\t\ttf.print(inverse_model.values)\n",
    "\t\tif iteration % save_every == 0:\n",
    "\t\t\tdirect_model.save(\"models/{}/{}/checkpoint_{}/direct_model\".format(NAME, save_path, iteration))\n",
    "\t\t\tinverse_model.save(\"models/{}/{}/checkpoint_{}/inverse_model\".format(NAME, save_path, iteration))\n",
    "\t\tif iteration == start_iteration + iterations:\n",
    "\t\t\tbreak"
   ]
  },
  {
   "cell_type": "code",
   "execution_count": 7,
   "metadata": {
    "scrolled": true
   },
   "outputs": [],
   "source": [
    "import pickle\n",
    "with open(\"dataset_single_source.pkl\", \"rb\") as file:\n",
    "\t[x, t, p, _, _] = pickle.load(file)\n",
    "    \n",
    "txzs_d = tensor_grid([t, x, [z_s], [x_s], [z_s]])\n",
    "t_d, x_d, z_d, x_d_s, z_d_s = txzs_d[:, 0:1], txzs_d[:, 1:2], txzs_d[:, 2:3], txzs_d[:, 3:4], txzs_d[:, 4:5]\n",
    "p_d = p.reshape((-1, 1))\n",
    "\n",
    "n_i = 2000\n",
    "x_i, z_i = transform(np.random.random((n_i, 1)), *domain), transform(np.random.random((n_i, 1)), *domain)\n",
    "t_i = np.zeros_like(x_i)\n",
    "p_i = np.zeros_like(x_i)\n",
    "x_i_s, z_i_s = np.tile([x_s], (n_i, 1)), np.tile([z_s], (n_i, 1))\n",
    "\n",
    "n_cx = n_cz = n_ct = 0\n",
    "x_c, z_c, t_c = np.linspace(*domain, n_cx).reshape((-1, 1)), np.linspace(*domain, n_cz).reshape((-1, 1)), np.linspace(0, T_max, n_ct).reshape((-1, 1))\n",
    "\n",
    "n_source = 100000\n",
    "x_source, z_source = np.tile([x_s], (n_source, 1)), np.tile([z_s], (n_source, 1))\n",
    "t_source = transform(np.random.random((n_source, 1)), 0, 200)\n",
    "\n",
    "x_c, z_c, t_c = np.vstack([x_c, x_source]), np.vstack([z_c, z_source]), np.vstack([t_c, t_source])\n",
    "x_c_s, z_c_s = np.tile([x_s], x_c.shape), np.tile([z_s], z_c.shape)\n",
    "\n",
    "datasets = ((x_c, z_c, t_c, x_c_s, z_c_s),\n",
    "\t\t(x_i, z_i, t_i, x_i_s, z_i_s, p_i),\n",
    "\t\t(x_d, z_d, t_d, x_d_s, z_d_s, p_d))\n",
    "\n",
    "import pickle\n",
    "with open(\"dataset_{}.pkl\".format(NAME), \"wb\") as file:\n",
    "    pickle.dump(datasets, file)"
   ]
  },
  {
   "cell_type": "code",
   "execution_count": null,
   "metadata": {
    "scrolled": true
   },
   "outputs": [
    {
     "name": "stdout",
     "output_type": "stream",
     "text": [
      "WARNING:tensorflow:Calling GradientTape.gradient on a persistent tape inside its context is significantly less efficient than calling it outside the context (it causes the gradient ops to be recorded on the tape, leading to increased CPU and memory usage). Only call GradientTape.gradient inside the context if you actually want to trace the gradient in order to compute higher order derivatives.\n",
      "WARNING:tensorflow:Calling GradientTape.gradient on a persistent tape inside its context is significantly less efficient than calling it outside the context (it causes the gradient ops to be recorded on the tape, leading to increased CPU and memory usage). Only call GradientTape.gradient inside the context if you actually want to trace the gradient in order to compute higher order derivatives.\n",
      "WARNING:tensorflow:Calling GradientTape.gradient on a persistent tape inside its context is significantly less efficient than calling it outside the context (it causes the gradient ops to be recorded on the tape, leading to increased CPU and memory usage). Only call GradientTape.gradient inside the context if you actually want to trace the gradient in order to compute higher order derivatives.\n",
      "WARNING:tensorflow:Calling GradientTape.gradient on a persistent tape inside its context is significantly less efficient than calling it outside the context (it causes the gradient ops to be recorded on the tape, leading to increased CPU and memory usage). Only call GradientTape.gradient inside the context if you actually want to trace the gradient in order to compute higher order derivatives.\n",
      "WARNING:tensorflow:Calling GradientTape.gradient on a persistent tape inside its context is significantly less efficient than calling it outside the context (it causes the gradient ops to be recorded on the tape, leading to increased CPU and memory usage). Only call GradientTape.gradient inside the context if you actually want to trace the gradient in order to compute higher order derivatives.\n",
      "WARNING:tensorflow:Calling GradientTape.gradient on a persistent tape inside its context is significantly less efficient than calling it outside the context (it causes the gradient ops to be recorded on the tape, leading to increased CPU and memory usage). Only call GradientTape.gradient inside the context if you actually want to trace the gradient in order to compute higher order derivatives.\n",
      "(<tf.Tensor: shape=(), dtype=float32, numpy=2.3465178>, <tf.Tensor: shape=(), dtype=float32, numpy=1.9719213e-05>, <tf.Tensor: shape=(), dtype=float32, numpy=1.8460221e-05>, <tf.Tensor: shape=(), dtype=float32, numpy=0.890893>, <tf.Tensor: shape=(), dtype=float32, numpy=2.032439e-05>, <tf.Tensor: shape=(), dtype=float32, numpy=0.50882685>, <tf.Tensor: shape=(), dtype=float32, numpy=0.94673944>)\n",
      "2020/07/15, 16:05:08, Epoch: 2000, Loss: 2.3465e+00, c: 1.9719e-05, ireq: 1.8460e-05, irn: 8.9089e-01, dr: 2.0324e-05, iv: 5.0883e-01, dv:9.4674e-01\n",
      "ListWrapper([2.25, 2.243186])\n",
      "(<tf.Tensor: shape=(), dtype=float32, numpy=2.0426924>, <tf.Tensor: shape=(), dtype=float32, numpy=1.712655e-05>, <tf.Tensor: shape=(), dtype=float32, numpy=1.5630498e-05>, <tf.Tensor: shape=(), dtype=float32, numpy=0.9092525>, <tf.Tensor: shape=(), dtype=float32, numpy=1.6114544e-05>, <tf.Tensor: shape=(), dtype=float32, numpy=0.50316274>, <tf.Tensor: shape=(), dtype=float32, numpy=0.6302282>)\n",
      "2020/07/15, 16:09:57, Epoch: 4000, Loss: 2.0427e+00, c: 1.7127e-05, ireq: 1.5630e-05, irn: 9.0925e-01, dr: 1.6115e-05, iv: 5.0316e-01, dv:6.3023e-01\n",
      "ListWrapper([2.25, 2.23660135])\n",
      "(<tf.Tensor: shape=(), dtype=float32, numpy=1.898178>, <tf.Tensor: shape=(), dtype=float32, numpy=0.0054342686>, <tf.Tensor: shape=(), dtype=float32, numpy=1.32851565e-05>, <tf.Tensor: shape=(), dtype=float32, numpy=0.83520395>, <tf.Tensor: shape=(), dtype=float32, numpy=1.5487265e-05>, <tf.Tensor: shape=(), dtype=float32, numpy=0.45770484>, <tf.Tensor: shape=(), dtype=float32, numpy=0.5998062>)\n",
      "2020/07/15, 16:14:47, Epoch: 6000, Loss: 1.8982e+00, c: 5.4343e-03, ireq: 1.3285e-05, irn: 8.3520e-01, dr: 1.5487e-05, iv: 4.5770e-01, dv:5.9981e-01\n",
      "ListWrapper([2.25, 2.2300055])\n",
      "(<tf.Tensor: shape=(), dtype=float32, numpy=1.9663965>, <tf.Tensor: shape=(), dtype=float32, numpy=1.3522228e-05>, <tf.Tensor: shape=(), dtype=float32, numpy=1.2299752e-05>, <tf.Tensor: shape=(), dtype=float32, numpy=0.81185323>, <tf.Tensor: shape=(), dtype=float32, numpy=1.2496575e-05>, <tf.Tensor: shape=(), dtype=float32, numpy=0.43523017>, <tf.Tensor: shape=(), dtype=float32, numpy=0.71927476>)\n",
      "2020/07/15, 16:19:37, Epoch: 8000, Loss: 1.9664e+00, c: 1.3522e-05, ireq: 1.2300e-05, irn: 8.1185e-01, dr: 1.2497e-05, iv: 4.3523e-01, dv:7.1927e-01\n",
      "ListWrapper([2.25, 2.22353745])\n",
      "(<tf.Tensor: shape=(), dtype=float32, numpy=1.5293107>, <tf.Tensor: shape=(), dtype=float32, numpy=1.1531745e-05>, <tf.Tensor: shape=(), dtype=float32, numpy=1.0588394e-05>, <tf.Tensor: shape=(), dtype=float32, numpy=0.7254995>, <tf.Tensor: shape=(), dtype=float32, numpy=1.0389373e-05>, <tf.Tensor: shape=(), dtype=float32, numpy=0.36682504>, <tf.Tensor: shape=(), dtype=float32, numpy=0.43695366>)\n",
      "2020/07/15, 16:24:28, Epoch: 10000, Loss: 1.5293e+00, c: 1.1532e-05, ireq: 1.0588e-05, irn: 7.2550e-01, dr: 1.0389e-05, iv: 3.6683e-01, dv:4.3695e-01\n",
      "ListWrapper([2.25, 2.21709085])\n",
      "(<tf.Tensor: shape=(), dtype=float32, numpy=1.8474423>, <tf.Tensor: shape=(), dtype=float32, numpy=8.260545e-06>, <tf.Tensor: shape=(), dtype=float32, numpy=8.251971e-06>, <tf.Tensor: shape=(), dtype=float32, numpy=0.52321833>, <tf.Tensor: shape=(), dtype=float32, numpy=9.216865e-06>, <tf.Tensor: shape=(), dtype=float32, numpy=0.26811752>, <tf.Tensor: shape=(), dtype=float32, numpy=1.0560807>)\n",
      "2020/07/15, 16:29:16, Epoch: 12000, Loss: 1.8474e+00, c: 8.2605e-06, ireq: 8.2520e-06, irn: 5.2322e-01, dr: 9.2169e-06, iv: 2.6812e-01, dv:1.0561e+00\n",
      "ListWrapper([2.25, 2.21073365])\n",
      "(<tf.Tensor: shape=(), dtype=float32, numpy=1.225069>, <tf.Tensor: shape=(), dtype=float32, numpy=7.086657e-06>, <tf.Tensor: shape=(), dtype=float32, numpy=6.081502e-06>, <tf.Tensor: shape=(), dtype=float32, numpy=0.4735229>, <tf.Tensor: shape=(), dtype=float32, numpy=6.1871665e-06>, <tf.Tensor: shape=(), dtype=float32, numpy=0.21671967>, <tf.Tensor: shape=(), dtype=float32, numpy=0.534807>)\n",
      "2020/07/15, 16:34:06, Epoch: 14000, Loss: 1.2251e+00, c: 7.0867e-06, ireq: 6.0815e-06, irn: 4.7352e-01, dr: 6.1872e-06, iv: 2.1672e-01, dv:5.3481e-01\n",
      "ListWrapper([2.25, 2.20448446])\n",
      "(<tf.Tensor: shape=(), dtype=float32, numpy=1.0648581>, <tf.Tensor: shape=(), dtype=float32, numpy=4.953115e-06>, <tf.Tensor: shape=(), dtype=float32, numpy=4.8500438e-06>, <tf.Tensor: shape=(), dtype=float32, numpy=0.34511346>, <tf.Tensor: shape=(), dtype=float32, numpy=4.5608117e-06>, <tf.Tensor: shape=(), dtype=float32, numpy=0.18074323>, <tf.Tensor: shape=(), dtype=float32, numpy=0.53898704>)\n",
      "2020/07/15, 16:38:54, Epoch: 16000, Loss: 1.0649e+00, c: 4.9531e-06, ireq: 4.8500e-06, irn: 3.4511e-01, dr: 4.5608e-06, iv: 1.8074e-01, dv:5.3899e-01\n",
      "ListWrapper([2.25, 2.19837284])\n",
      "(<tf.Tensor: shape=(), dtype=float32, numpy=2.7948353>, <tf.Tensor: shape=(), dtype=float32, numpy=3.009201e-06>, <tf.Tensor: shape=(), dtype=float32, numpy=3.668282e-06>, <tf.Tensor: shape=(), dtype=float32, numpy=0.21866465>, <tf.Tensor: shape=(), dtype=float32, numpy=3.031604e-06>, <tf.Tensor: shape=(), dtype=float32, numpy=0.105942726>, <tf.Tensor: shape=(), dtype=float32, numpy=2.4702182>)\n",
      "2020/07/15, 16:43:44, Epoch: 18000, Loss: 2.7948e+00, c: 3.0092e-06, ireq: 3.6683e-06, irn: 2.1866e-01, dr: 3.0316e-06, iv: 1.0594e-01, dv:2.4702e+00\n",
      "ListWrapper([2.25, 2.19229102])\n",
      "(<tf.Tensor: shape=(), dtype=float32, numpy=0.30705434>, <tf.Tensor: shape=(), dtype=float32, numpy=1.74151e-06>, <tf.Tensor: shape=(), dtype=float32, numpy=1.5369305e-06>, <tf.Tensor: shape=(), dtype=float32, numpy=0.11224431>, <tf.Tensor: shape=(), dtype=float32, numpy=1.6936599e-06>, <tf.Tensor: shape=(), dtype=float32, numpy=0.0544429>, <tf.Tensor: shape=(), dtype=float32, numpy=0.14036217>)\n",
      "2020/07/15, 16:48:33, Epoch: 20000, Loss: 3.0705e-01, c: 1.7415e-06, ireq: 1.5369e-06, irn: 1.1224e-01, dr: 1.6937e-06, iv: 5.4443e-02, dv:1.4036e-01\n",
      "ListWrapper([2.25, 2.18623638])\n",
      "(<tf.Tensor: shape=(), dtype=float32, numpy=0.5203722>, <tf.Tensor: shape=(), dtype=float32, numpy=4.1045317e-07>, <tf.Tensor: shape=(), dtype=float32, numpy=3.6068136e-07>, <tf.Tensor: shape=(), dtype=float32, numpy=0.026904494>, <tf.Tensor: shape=(), dtype=float32, numpy=3.594114e-07>, <tf.Tensor: shape=(), dtype=float32, numpy=0.014902232>, <tf.Tensor: shape=(), dtype=float32, numpy=0.47856438>)\n",
      "2020/07/15, 16:53:23, Epoch: 22000, Loss: 5.2037e-01, c: 4.1045e-07, ireq: 3.6068e-07, irn: 2.6904e-02, dr: 3.5941e-07, iv: 1.4902e-02, dv:4.7856e-01\n",
      "ListWrapper([2.25, 2.18012691])\n"
     ]
    },
    {
     "name": "stdout",
     "output_type": "stream",
     "text": [
      "(<tf.Tensor: shape=(), dtype=float32, numpy=2.3393703>, <tf.Tensor: shape=(), dtype=float32, numpy=5.790154e-10>, <tf.Tensor: shape=(), dtype=float32, numpy=4.984681e-10>, <tf.Tensor: shape=(), dtype=float32, numpy=4.6749592e-05>, <tf.Tensor: shape=(), dtype=float32, numpy=5.2131066e-10>, <tf.Tensor: shape=(), dtype=float32, numpy=1.9003559e-05>, <tf.Tensor: shape=(), dtype=float32, numpy=2.3393044>)\n",
      "2020/07/15, 16:58:12, Epoch: 24000, Loss: 2.3394e+00, c: 5.7902e-10, ireq: 4.9847e-10, irn: 4.6750e-05, dr: 5.2131e-10, iv: 1.9004e-05, dv:2.3393e+00\n",
      "ListWrapper([2.25, 2.17406583])\n",
      "(<tf.Tensor: shape=(), dtype=float32, numpy=0.04783608>, <tf.Tensor: shape=(), dtype=float32, numpy=0.0017997472>, <tf.Tensor: shape=(), dtype=float32, numpy=5.5206273e-10>, <tf.Tensor: shape=(), dtype=float32, numpy=5.115712e-05>, <tf.Tensor: shape=(), dtype=float32, numpy=5.017942e-10>, <tf.Tensor: shape=(), dtype=float32, numpy=2.869482e-05>, <tf.Tensor: shape=(), dtype=float32, numpy=0.04595648>)\n",
      "2020/07/15, 17:03:01, Epoch: 26000, Loss: 4.7836e-02, c: 1.7997e-03, ireq: 5.5206e-10, irn: 5.1157e-05, dr: 5.0179e-10, iv: 2.8695e-05, dv:4.5956e-02\n",
      "ListWrapper([2.25, 2.16807842])\n",
      "(<tf.Tensor: shape=(), dtype=float32, numpy=0.48443154>, <tf.Tensor: shape=(), dtype=float32, numpy=5.570092e-10>, <tf.Tensor: shape=(), dtype=float32, numpy=4.758989e-10>, <tf.Tensor: shape=(), dtype=float32, numpy=4.0275696e-05>, <tf.Tensor: shape=(), dtype=float32, numpy=5.1912435e-10>, <tf.Tensor: shape=(), dtype=float32, numpy=2.8719052e-05>, <tf.Tensor: shape=(), dtype=float32, numpy=0.48436254>)\n",
      "2020/07/15, 17:07:49, Epoch: 28000, Loss: 4.8443e-01, c: 5.5701e-10, ireq: 4.7590e-10, irn: 4.0276e-05, dr: 5.1912e-10, iv: 2.8719e-05, dv:4.8436e-01\n",
      "ListWrapper([2.25, 2.16197777])\n",
      "(<tf.Tensor: shape=(), dtype=float32, numpy=1.7710032>, <tf.Tensor: shape=(), dtype=float32, numpy=4.8366305e-10>, <tf.Tensor: shape=(), dtype=float32, numpy=5.128876e-10>, <tf.Tensor: shape=(), dtype=float32, numpy=3.605453e-05>, <tf.Tensor: shape=(), dtype=float32, numpy=5.308124e-10>, <tf.Tensor: shape=(), dtype=float32, numpy=1.9922601e-05>, <tf.Tensor: shape=(), dtype=float32, numpy=1.7709472>)\n",
      "2020/07/15, 17:12:39, Epoch: 30000, Loss: 1.7710e+00, c: 4.8366e-10, ireq: 5.1289e-10, irn: 3.6055e-05, dr: 5.3081e-10, iv: 1.9923e-05, dv:1.7709e+00\n",
      "ListWrapper([2.25, 2.15593147])\n",
      "(<tf.Tensor: shape=(), dtype=float32, numpy=0.0496657>, <tf.Tensor: shape=(), dtype=float32, numpy=6.1550365e-10>, <tf.Tensor: shape=(), dtype=float32, numpy=7.1812317e-10>, <tf.Tensor: shape=(), dtype=float32, numpy=4.085615e-05>, <tf.Tensor: shape=(), dtype=float32, numpy=5.866234e-10>, <tf.Tensor: shape=(), dtype=float32, numpy=2.76694e-05>, <tf.Tensor: shape=(), dtype=float32, numpy=0.049597174>)\n",
      "2020/07/15, 17:17:29, Epoch: 32000, Loss: 4.9666e-02, c: 6.1550e-10, ireq: 7.1812e-10, irn: 4.0856e-05, dr: 5.8662e-10, iv: 2.7669e-05, dv:4.9597e-02\n",
      "ListWrapper([2.25, 2.14997315])\n",
      "(<tf.Tensor: shape=(), dtype=float32, numpy=0.34509012>, <tf.Tensor: shape=(), dtype=float32, numpy=5.5911875e-10>, <tf.Tensor: shape=(), dtype=float32, numpy=5.491526e-10>, <tf.Tensor: shape=(), dtype=float32, numpy=4.013873e-05>, <tf.Tensor: shape=(), dtype=float32, numpy=4.947997e-10>, <tf.Tensor: shape=(), dtype=float32, numpy=1.9768451e-05>, <tf.Tensor: shape=(), dtype=float32, numpy=0.34503022>)\n",
      "2020/07/15, 17:22:19, Epoch: 34000, Loss: 3.4509e-01, c: 5.5912e-10, ireq: 5.4915e-10, irn: 4.0139e-05, dr: 4.9480e-10, iv: 1.9768e-05, dv:3.4503e-01\n",
      "ListWrapper([2.25, 2.14404178])\n",
      "(<tf.Tensor: shape=(), dtype=float32, numpy=1.1216666>, <tf.Tensor: shape=(), dtype=float32, numpy=6.0113103e-10>, <tf.Tensor: shape=(), dtype=float32, numpy=5.694706e-10>, <tf.Tensor: shape=(), dtype=float32, numpy=4.5449124e-05>, <tf.Tensor: shape=(), dtype=float32, numpy=5.576205e-10>, <tf.Tensor: shape=(), dtype=float32, numpy=2.7526647e-05>, <tf.Tensor: shape=(), dtype=float32, numpy=1.1215936>)\n",
      "2020/07/15, 17:27:09, Epoch: 36000, Loss: 1.1217e+00, c: 6.0113e-10, ireq: 5.6947e-10, irn: 4.5449e-05, dr: 5.5762e-10, iv: 2.7527e-05, dv:1.1216e+00\n",
      "ListWrapper([2.25, 2.13808918])\n",
      "(<tf.Tensor: shape=(), dtype=float32, numpy=0.064379185>, <tf.Tensor: shape=(), dtype=float32, numpy=0.004990283>, <tf.Tensor: shape=(), dtype=float32, numpy=4.724056e-10>, <tf.Tensor: shape=(), dtype=float32, numpy=4.7962974e-05>, <tf.Tensor: shape=(), dtype=float32, numpy=5.1723564e-10>, <tf.Tensor: shape=(), dtype=float32, numpy=2.4930927e-05>, <tf.Tensor: shape=(), dtype=float32, numpy=0.05931601>)\n",
      "2020/07/15, 17:31:59, Epoch: 38000, Loss: 6.4379e-02, c: 4.9903e-03, ireq: 4.7241e-10, irn: 4.7963e-05, dr: 5.1724e-10, iv: 2.4931e-05, dv:5.9316e-02\n",
      "ListWrapper([2.25, 2.13210654])\n",
      "(<tf.Tensor: shape=(), dtype=float32, numpy=0.30897704>, <tf.Tensor: shape=(), dtype=float32, numpy=7.719659e-08>, <tf.Tensor: shape=(), dtype=float32, numpy=5.300689e-10>, <tf.Tensor: shape=(), dtype=float32, numpy=4.9053622e-05>, <tf.Tensor: shape=(), dtype=float32, numpy=5.70605e-10>, <tf.Tensor: shape=(), dtype=float32, numpy=3.492101e-05>, <tf.Tensor: shape=(), dtype=float32, numpy=0.308893>)\n",
      "2020/07/15, 17:36:48, Epoch: 40000, Loss: 3.0898e-01, c: 7.7197e-08, ireq: 5.3007e-10, irn: 4.9054e-05, dr: 5.7061e-10, iv: 3.4921e-05, dv:3.0889e-01\n",
      "ListWrapper([2.25, 2.12599754])\n",
      "(<tf.Tensor: shape=(), dtype=float32, numpy=0.9089536>, <tf.Tensor: shape=(), dtype=float32, numpy=0.0006543055>, <tf.Tensor: shape=(), dtype=float32, numpy=4.1017692e-10>, <tf.Tensor: shape=(), dtype=float32, numpy=4.0255363e-05>, <tf.Tensor: shape=(), dtype=float32, numpy=4.104404e-10>, <tf.Tensor: shape=(), dtype=float32, numpy=3.1170137e-05>, <tf.Tensor: shape=(), dtype=float32, numpy=0.90822786>)\n",
      "2020/07/15, 17:41:37, Epoch: 42000, Loss: 9.0895e-01, c: 6.5431e-04, ireq: 4.1018e-10, irn: 4.0255e-05, dr: 4.1044e-10, iv: 3.1170e-05, dv:9.0823e-01\n",
      "ListWrapper([2.25, 2.11996913])\n",
      "(<tf.Tensor: shape=(), dtype=float32, numpy=0.04955729>, <tf.Tensor: shape=(), dtype=float32, numpy=6.7217343e-10>, <tf.Tensor: shape=(), dtype=float32, numpy=6.6210476e-10>, <tf.Tensor: shape=(), dtype=float32, numpy=5.2727166e-05>, <tf.Tensor: shape=(), dtype=float32, numpy=6.031493e-10>, <tf.Tensor: shape=(), dtype=float32, numpy=2.8666705e-05>, <tf.Tensor: shape=(), dtype=float32, numpy=0.049475893>)\n",
      "2020/07/15, 17:46:27, Epoch: 44000, Loss: 4.9557e-02, c: 6.7217e-10, ireq: 6.6210e-10, irn: 5.2727e-05, dr: 6.0315e-10, iv: 2.8667e-05, dv:4.9476e-02\n",
      "ListWrapper([2.25, 2.11393023])\n",
      "(<tf.Tensor: shape=(), dtype=float32, numpy=0.43840572>, <tf.Tensor: shape=(), dtype=float32, numpy=5.458708e-10>, <tf.Tensor: shape=(), dtype=float32, numpy=6.3128336e-10>, <tf.Tensor: shape=(), dtype=float32, numpy=5.3172196e-05>, <tf.Tensor: shape=(), dtype=float32, numpy=6.24476e-10>, <tf.Tensor: shape=(), dtype=float32, numpy=2.6489812e-05>, <tf.Tensor: shape=(), dtype=float32, numpy=0.43832606>)\n",
      "2020/07/15, 17:51:16, Epoch: 46000, Loss: 4.3841e-01, c: 5.4587e-10, ireq: 6.3128e-10, irn: 5.3172e-05, dr: 6.2448e-10, iv: 2.6490e-05, dv:4.3833e-01\n",
      "ListWrapper([2.25, 2.10787678])\n",
      "(<tf.Tensor: shape=(), dtype=float32, numpy=0.6711893>, <tf.Tensor: shape=(), dtype=float32, numpy=5.1820287e-10>, <tf.Tensor: shape=(), dtype=float32, numpy=5.1007715e-10>, <tf.Tensor: shape=(), dtype=float32, numpy=5.148757e-05>, <tf.Tensor: shape=(), dtype=float32, numpy=5.933422e-10>, <tf.Tensor: shape=(), dtype=float32, numpy=3.2294764e-05>, <tf.Tensor: shape=(), dtype=float32, numpy=0.6711055>)\n",
      "2020/07/15, 17:56:05, Epoch: 48000, Loss: 6.7119e-01, c: 5.1820e-10, ireq: 5.1008e-10, irn: 5.1488e-05, dr: 5.9334e-10, iv: 3.2295e-05, dv:6.7111e-01\n",
      "ListWrapper([2.25, 2.10182977])\n",
      "(<tf.Tensor: shape=(), dtype=float32, numpy=0.042421114>, <tf.Tensor: shape=(), dtype=float32, numpy=4.469795e-10>, <tf.Tensor: shape=(), dtype=float32, numpy=4.5101714e-10>, <tf.Tensor: shape=(), dtype=float32, numpy=3.5647292e-05>, <tf.Tensor: shape=(), dtype=float32, numpy=4.689371e-10>, <tf.Tensor: shape=(), dtype=float32, numpy=2.7247472e-05>, <tf.Tensor: shape=(), dtype=float32, numpy=0.042358216>)\n",
      "2020/07/15, 18:00:54, Epoch: 50000, Loss: 4.2421e-02, c: 4.4698e-10, ireq: 4.5102e-10, irn: 3.5647e-05, dr: 4.6894e-10, iv: 2.7247e-05, dv:4.2358e-02\n",
      "ListWrapper([2.25, 2.09591079])\n"
     ]
    },
    {
     "name": "stdout",
     "output_type": "stream",
     "text": [
      "WARNING:tensorflow:From /usr/lib/python3.8/site-packages/tensorflow/python/ops/resource_variable_ops.py:1813: calling BaseResourceVariable.__init__ (from tensorflow.python.ops.resource_variable_ops) with constraint is deprecated and will be removed in a future version.\n",
      "Instructions for updating:\n",
      "If using Keras pass *_constraint arguments to layers.\n",
      "INFO:tensorflow:Assets written to: models/0714_single_source_simplest_pretrain_source/None/checkpoint_50000/direct_model/assets\n",
      "INFO:tensorflow:Assets written to: models/0714_single_source_simplest_pretrain_source/None/checkpoint_50000/inverse_model/assets\n",
      "(<tf.Tensor: shape=(), dtype=float32, numpy=0.41876793>, <tf.Tensor: shape=(), dtype=float32, numpy=5.357888e-10>, <tf.Tensor: shape=(), dtype=float32, numpy=5.206879e-10>, <tf.Tensor: shape=(), dtype=float32, numpy=4.7504866e-05>, <tf.Tensor: shape=(), dtype=float32, numpy=4.8724114e-10>, <tf.Tensor: shape=(), dtype=float32, numpy=3.427942e-05>, <tf.Tensor: shape=(), dtype=float32, numpy=0.41868615>)\n",
      "2020/07/15, 18:05:45, Epoch: 52000, Loss: 4.1877e-01, c: 5.3579e-10, ireq: 5.2069e-10, irn: 4.7505e-05, dr: 4.8724e-10, iv: 3.4279e-05, dv:4.1869e-01\n",
      "ListWrapper([2.25, 2.08995557])\n",
      "(<tf.Tensor: shape=(), dtype=float32, numpy=0.5152472>, <tf.Tensor: shape=(), dtype=float32, numpy=0.0015110198>, <tf.Tensor: shape=(), dtype=float32, numpy=5.925539e-10>, <tf.Tensor: shape=(), dtype=float32, numpy=4.494557e-05>, <tf.Tensor: shape=(), dtype=float32, numpy=5.469528e-10>, <tf.Tensor: shape=(), dtype=float32, numpy=2.6977985e-05>, <tf.Tensor: shape=(), dtype=float32, numpy=0.5136643>)\n",
      "2020/07/15, 18:10:36, Epoch: 54000, Loss: 5.1525e-01, c: 1.5110e-03, ireq: 5.9255e-10, irn: 4.4946e-05, dr: 5.4695e-10, iv: 2.6978e-05, dv:5.1366e-01\n",
      "ListWrapper([2.25, 2.08400249])\n",
      "(<tf.Tensor: shape=(), dtype=float32, numpy=0.050858375>, <tf.Tensor: shape=(), dtype=float32, numpy=5.1675636e-10>, <tf.Tensor: shape=(), dtype=float32, numpy=6.3030275e-10>, <tf.Tensor: shape=(), dtype=float32, numpy=4.7908725e-05>, <tf.Tensor: shape=(), dtype=float32, numpy=5.581902e-10>, <tf.Tensor: shape=(), dtype=float32, numpy=3.1698386e-05>, <tf.Tensor: shape=(), dtype=float32, numpy=0.050778765>)\n",
      "2020/07/15, 18:15:25, Epoch: 56000, Loss: 5.0858e-02, c: 5.1676e-10, ireq: 6.3030e-10, irn: 4.7909e-05, dr: 5.5819e-10, iv: 3.1698e-05, dv:5.0779e-02\n",
      "ListWrapper([2.25, 2.07799363])\n",
      "(<tf.Tensor: shape=(), dtype=float32, numpy=0.012069389>, <tf.Tensor: shape=(), dtype=float32, numpy=4.7170207e-10>, <tf.Tensor: shape=(), dtype=float32, numpy=4.7598964e-10>, <tf.Tensor: shape=(), dtype=float32, numpy=3.584677e-05>, <tf.Tensor: shape=(), dtype=float32, numpy=5.275225e-10>, <tf.Tensor: shape=(), dtype=float32, numpy=3.4937315e-05>, <tf.Tensor: shape=(), dtype=float32, numpy=0.011998604>)\n",
      "2020/07/15, 18:20:15, Epoch: 58000, Loss: 1.2069e-02, c: 4.7170e-10, ireq: 4.7599e-10, irn: 3.5847e-05, dr: 5.2752e-10, iv: 3.4937e-05, dv:1.1999e-02\n",
      "ListWrapper([2.25, 2.071908])\n",
      "(<tf.Tensor: shape=(), dtype=float32, numpy=0.44690883>, <tf.Tensor: shape=(), dtype=float32, numpy=5.984428e-10>, <tf.Tensor: shape=(), dtype=float32, numpy=5.6843463e-10>, <tf.Tensor: shape=(), dtype=float32, numpy=4.3168067e-05>, <tf.Tensor: shape=(), dtype=float32, numpy=5.644596e-10>, <tf.Tensor: shape=(), dtype=float32, numpy=3.1205367e-05>, <tf.Tensor: shape=(), dtype=float32, numpy=0.44683444>)\n",
      "2020/07/15, 18:25:05, Epoch: 60000, Loss: 4.4691e-01, c: 5.9844e-10, ireq: 5.6843e-10, irn: 4.3168e-05, dr: 5.6446e-10, iv: 3.1205e-05, dv:4.4683e-01\n",
      "ListWrapper([2.25, 2.06587481])\n",
      "(<tf.Tensor: shape=(), dtype=float32, numpy=0.18408856>, <tf.Tensor: shape=(), dtype=float32, numpy=5.4873106e-10>, <tf.Tensor: shape=(), dtype=float32, numpy=5.5407784e-10>, <tf.Tensor: shape=(), dtype=float32, numpy=5.0913506e-05>, <tf.Tensor: shape=(), dtype=float32, numpy=6.1870514e-10>, <tf.Tensor: shape=(), dtype=float32, numpy=2.5324156e-05>, <tf.Tensor: shape=(), dtype=float32, numpy=0.18401232>)\n",
      "2020/07/15, 18:29:54, Epoch: 62000, Loss: 1.8409e-01, c: 5.4873e-10, ireq: 5.5408e-10, irn: 5.0914e-05, dr: 6.1871e-10, iv: 2.5324e-05, dv:1.8401e-01\n",
      "ListWrapper([2.25, 2.05980945])\n",
      "(<tf.Tensor: shape=(), dtype=float32, numpy=0.48130807>, <tf.Tensor: shape=(), dtype=float32, numpy=0.00015005951>, <tf.Tensor: shape=(), dtype=float32, numpy=5.3460525e-10>, <tf.Tensor: shape=(), dtype=float32, numpy=4.8462334e-05>, <tf.Tensor: shape=(), dtype=float32, numpy=4.540331e-10>, <tf.Tensor: shape=(), dtype=float32, numpy=2.8197232e-05>, <tf.Tensor: shape=(), dtype=float32, numpy=0.48108137>)\n",
      "2020/07/15, 18:34:44, Epoch: 64000, Loss: 4.8131e-01, c: 1.5006e-04, ireq: 5.3461e-10, irn: 4.8462e-05, dr: 4.5403e-10, iv: 2.8197e-05, dv:4.8108e-01\n",
      "ListWrapper([2.25, 2.05375886])\n",
      "(<tf.Tensor: shape=(), dtype=float32, numpy=0.3708978>, <tf.Tensor: shape=(), dtype=float32, numpy=5.5581756e-10>, <tf.Tensor: shape=(), dtype=float32, numpy=5.238119e-10>, <tf.Tensor: shape=(), dtype=float32, numpy=5.19246e-05>, <tf.Tensor: shape=(), dtype=float32, numpy=5.222419e-10>, <tf.Tensor: shape=(), dtype=float32, numpy=2.7780537e-05>, <tf.Tensor: shape=(), dtype=float32, numpy=0.37081808>)\n",
      "2020/07/15, 18:39:34, Epoch: 66000, Loss: 3.7090e-01, c: 5.5582e-10, ireq: 5.2381e-10, irn: 5.1925e-05, dr: 5.2224e-10, iv: 2.7781e-05, dv:3.7082e-01\n",
      "ListWrapper([2.25, 2.0477469])\n",
      "(<tf.Tensor: shape=(), dtype=float32, numpy=0.3379124>, <tf.Tensor: shape=(), dtype=float32, numpy=5.236517e-10>, <tf.Tensor: shape=(), dtype=float32, numpy=6.2563543e-10>, <tf.Tensor: shape=(), dtype=float32, numpy=5.7113073e-05>, <tf.Tensor: shape=(), dtype=float32, numpy=5.9966876e-10>, <tf.Tensor: shape=(), dtype=float32, numpy=5.1091214e-05>, <tf.Tensor: shape=(), dtype=float32, numpy=0.3378042>)\n",
      "2020/07/15, 18:44:23, Epoch: 68000, Loss: 3.3791e-01, c: 5.2365e-10, ireq: 6.2564e-10, irn: 5.7113e-05, dr: 5.9967e-10, iv: 5.1091e-05, dv:3.3780e-01\n",
      "ListWrapper([2.25, 2.04183602])\n",
      "(<tf.Tensor: shape=(), dtype=float32, numpy=1.5329075>, <tf.Tensor: shape=(), dtype=float32, numpy=4.4914905e-10>, <tf.Tensor: shape=(), dtype=float32, numpy=5.223625e-10>, <tf.Tensor: shape=(), dtype=float32, numpy=5.5509165e-05>, <tf.Tensor: shape=(), dtype=float32, numpy=5.557194e-10>, <tf.Tensor: shape=(), dtype=float32, numpy=3.2737218e-05>, <tf.Tensor: shape=(), dtype=float32, numpy=1.5328193>)\n",
      "2020/07/15, 18:49:13, Epoch: 70000, Loss: 1.5329e+00, c: 4.4915e-10, ireq: 5.2236e-10, irn: 5.5509e-05, dr: 5.5572e-10, iv: 3.2737e-05, dv:1.5328e+00\n",
      "ListWrapper([2.25, 2.03588533])\n",
      "(<tf.Tensor: shape=(), dtype=float32, numpy=0.17786369>, <tf.Tensor: shape=(), dtype=float32, numpy=5.004114e-10>, <tf.Tensor: shape=(), dtype=float32, numpy=5.068483e-10>, <tf.Tensor: shape=(), dtype=float32, numpy=4.2863518e-05>, <tf.Tensor: shape=(), dtype=float32, numpy=5.380336e-10>, <tf.Tensor: shape=(), dtype=float32, numpy=2.5290952e-05>, <tf.Tensor: shape=(), dtype=float32, numpy=0.17779553>)\n",
      "2020/07/15, 18:54:03, Epoch: 72000, Loss: 1.7786e-01, c: 5.0041e-10, ireq: 5.0685e-10, irn: 4.2864e-05, dr: 5.3803e-10, iv: 2.5291e-05, dv:1.7780e-01\n",
      "ListWrapper([2.25, 2.02992272])\n",
      "(<tf.Tensor: shape=(), dtype=float32, numpy=0.4990744>, <tf.Tensor: shape=(), dtype=float32, numpy=5.396844e-10>, <tf.Tensor: shape=(), dtype=float32, numpy=5.425974e-10>, <tf.Tensor: shape=(), dtype=float32, numpy=6.216082e-05>, <tf.Tensor: shape=(), dtype=float32, numpy=5.1319177e-10>, <tf.Tensor: shape=(), dtype=float32, numpy=4.9322123e-05>, <tf.Tensor: shape=(), dtype=float32, numpy=0.4989629>)\n",
      "2020/07/15, 18:58:53, Epoch: 74000, Loss: 4.9907e-01, c: 5.3968e-10, ireq: 5.4260e-10, irn: 6.2161e-05, dr: 5.1319e-10, iv: 4.9322e-05, dv:4.9896e-01\n",
      "ListWrapper([2.25, 2.02386165])\n",
      "(<tf.Tensor: shape=(), dtype=float32, numpy=2.442649>, <tf.Tensor: shape=(), dtype=float32, numpy=0.0018093926>, <tf.Tensor: shape=(), dtype=float32, numpy=4.930879e-10>, <tf.Tensor: shape=(), dtype=float32, numpy=4.2114632e-05>, <tf.Tensor: shape=(), dtype=float32, numpy=4.4788093e-10>, <tf.Tensor: shape=(), dtype=float32, numpy=2.1985945e-05>, <tf.Tensor: shape=(), dtype=float32, numpy=2.4407754>)\n",
      "2020/07/15, 19:03:43, Epoch: 76000, Loss: 2.4426e+00, c: 1.8094e-03, ireq: 4.9309e-10, irn: 4.2115e-05, dr: 4.4788e-10, iv: 2.1986e-05, dv:2.4408e+00\n",
      "ListWrapper([2.25, 2.01778579])\n"
     ]
    },
    {
     "name": "stdout",
     "output_type": "stream",
     "text": [
      "(<tf.Tensor: shape=(), dtype=float32, numpy=0.06990626>, <tf.Tensor: shape=(), dtype=float32, numpy=4.9168947e-10>, <tf.Tensor: shape=(), dtype=float32, numpy=4.324503e-10>, <tf.Tensor: shape=(), dtype=float32, numpy=4.6514517e-05>, <tf.Tensor: shape=(), dtype=float32, numpy=4.131594e-10>, <tf.Tensor: shape=(), dtype=float32, numpy=2.4354373e-05>, <tf.Tensor: shape=(), dtype=float32, numpy=0.06983539>)\n",
      "2020/07/15, 19:08:33, Epoch: 78000, Loss: 6.9906e-02, c: 4.9169e-10, ireq: 4.3245e-10, irn: 4.6515e-05, dr: 4.1316e-10, iv: 2.4354e-05, dv:6.9835e-02\n",
      "ListWrapper([2.25, 2.01180458])\n",
      "(<tf.Tensor: shape=(), dtype=float32, numpy=0.5544772>, <tf.Tensor: shape=(), dtype=float32, numpy=5.135891e-10>, <tf.Tensor: shape=(), dtype=float32, numpy=5.467943e-10>, <tf.Tensor: shape=(), dtype=float32, numpy=5.4201675e-05>, <tf.Tensor: shape=(), dtype=float32, numpy=5.303174e-10>, <tf.Tensor: shape=(), dtype=float32, numpy=2.7646882e-05>, <tf.Tensor: shape=(), dtype=float32, numpy=0.5543954>)\n",
      "2020/07/15, 19:13:22, Epoch: 80000, Loss: 5.5448e-01, c: 5.1359e-10, ireq: 5.4679e-10, irn: 5.4202e-05, dr: 5.3032e-10, iv: 2.7647e-05, dv:5.5440e-01\n",
      "ListWrapper([2.25, 2.0057])\n",
      "(<tf.Tensor: shape=(), dtype=float32, numpy=1.9776975>, <tf.Tensor: shape=(), dtype=float32, numpy=3.642275e-10>, <tf.Tensor: shape=(), dtype=float32, numpy=3.4362962e-10>, <tf.Tensor: shape=(), dtype=float32, numpy=3.6924357e-05>, <tf.Tensor: shape=(), dtype=float32, numpy=4.4561993e-10>, <tf.Tensor: shape=(), dtype=float32, numpy=2.0412885e-05>, <tf.Tensor: shape=(), dtype=float32, numpy=1.9776402>)\n",
      "2020/07/15, 19:18:13, Epoch: 82000, Loss: 1.9777e+00, c: 3.6423e-10, ireq: 3.4363e-10, irn: 3.6924e-05, dr: 4.4562e-10, iv: 2.0413e-05, dv:1.9776e+00\n",
      "ListWrapper([2.25, 1.99964643])\n",
      "(<tf.Tensor: shape=(), dtype=float32, numpy=0.042625792>, <tf.Tensor: shape=(), dtype=float32, numpy=4.2336804e-10>, <tf.Tensor: shape=(), dtype=float32, numpy=4.1866177e-10>, <tf.Tensor: shape=(), dtype=float32, numpy=4.1199604e-05>, <tf.Tensor: shape=(), dtype=float32, numpy=4.1022696e-10>, <tf.Tensor: shape=(), dtype=float32, numpy=2.4661993e-05>, <tf.Tensor: shape=(), dtype=float32, numpy=0.04255993>)\n",
      "2020/07/15, 19:23:03, Epoch: 84000, Loss: 4.2626e-02, c: 4.2337e-10, ireq: 4.1866e-10, irn: 4.1200e-05, dr: 4.1023e-10, iv: 2.4662e-05, dv:4.2560e-02\n",
      "ListWrapper([2.25, 1.99368429])\n",
      "(<tf.Tensor: shape=(), dtype=float32, numpy=0.34477565>, <tf.Tensor: shape=(), dtype=float32, numpy=5.1702265e-10>, <tf.Tensor: shape=(), dtype=float32, numpy=5.5680527e-10>, <tf.Tensor: shape=(), dtype=float32, numpy=5.626707e-05>, <tf.Tensor: shape=(), dtype=float32, numpy=5.9716887e-10>, <tf.Tensor: shape=(), dtype=float32, numpy=3.4126297e-05>, <tf.Tensor: shape=(), dtype=float32, numpy=0.34468526>)\n",
      "2020/07/15, 19:27:53, Epoch: 86000, Loss: 3.4478e-01, c: 5.1702e-10, ireq: 5.5681e-10, irn: 5.6267e-05, dr: 5.9717e-10, iv: 3.4126e-05, dv:3.4469e-01\n",
      "ListWrapper([2.25, 1.98775566])\n",
      "(<tf.Tensor: shape=(), dtype=float32, numpy=1.3286248>, <tf.Tensor: shape=(), dtype=float32, numpy=3.9560671e-10>, <tf.Tensor: shape=(), dtype=float32, numpy=4.3996576e-10>, <tf.Tensor: shape=(), dtype=float32, numpy=3.7887814e-05>, <tf.Tensor: shape=(), dtype=float32, numpy=3.8778536e-10>, <tf.Tensor: shape=(), dtype=float32, numpy=2.623447e-05>, <tf.Tensor: shape=(), dtype=float32, numpy=1.3285607>)\n",
      "2020/07/15, 19:32:44, Epoch: 88000, Loss: 1.3286e+00, c: 3.9561e-10, ireq: 4.3997e-10, irn: 3.7888e-05, dr: 3.8779e-10, iv: 2.6234e-05, dv:1.3286e+00\n",
      "ListWrapper([2.25, 1.98181474])\n",
      "(<tf.Tensor: shape=(), dtype=float32, numpy=0.0570428>, <tf.Tensor: shape=(), dtype=float32, numpy=1.4270661e-07>, <tf.Tensor: shape=(), dtype=float32, numpy=5.117976e-10>, <tf.Tensor: shape=(), dtype=float32, numpy=4.4568424e-05>, <tf.Tensor: shape=(), dtype=float32, numpy=4.734124e-10>, <tf.Tensor: shape=(), dtype=float32, numpy=2.6287958e-05>, <tf.Tensor: shape=(), dtype=float32, numpy=0.0569718>)\n",
      "2020/07/15, 19:37:33, Epoch: 90000, Loss: 5.7043e-02, c: 1.4271e-07, ireq: 5.1180e-10, irn: 4.4568e-05, dr: 4.7341e-10, iv: 2.6288e-05, dv:5.6972e-02\n",
      "ListWrapper([2.25, 1.97582865])\n",
      "(<tf.Tensor: shape=(), dtype=float32, numpy=0.40431973>, <tf.Tensor: shape=(), dtype=float32, numpy=0.00027015005>, <tf.Tensor: shape=(), dtype=float32, numpy=5.678425e-10>, <tf.Tensor: shape=(), dtype=float32, numpy=5.5662204e-05>, <tf.Tensor: shape=(), dtype=float32, numpy=5.043028e-10>, <tf.Tensor: shape=(), dtype=float32, numpy=3.6412788e-05>, <tf.Tensor: shape=(), dtype=float32, numpy=0.40395752>)\n",
      "2020/07/15, 19:42:23, Epoch: 92000, Loss: 4.0432e-01, c: 2.7015e-04, ireq: 5.6784e-10, irn: 5.5662e-05, dr: 5.0430e-10, iv: 3.6413e-05, dv:4.0396e-01\n",
      "ListWrapper([2.25, 1.96972394])\n",
      "(<tf.Tensor: shape=(), dtype=float32, numpy=1.0102669>, <tf.Tensor: shape=(), dtype=float32, numpy=4.3658058e-10>, <tf.Tensor: shape=(), dtype=float32, numpy=3.75236e-10>, <tf.Tensor: shape=(), dtype=float32, numpy=4.2727206e-05>, <tf.Tensor: shape=(), dtype=float32, numpy=4.3591988e-10>, <tf.Tensor: shape=(), dtype=float32, numpy=3.158704e-05>, <tf.Tensor: shape=(), dtype=float32, numpy=1.0101926>)\n",
      "2020/07/15, 19:47:14, Epoch: 94000, Loss: 1.0103e+00, c: 4.3658e-10, ireq: 3.7524e-10, irn: 4.2727e-05, dr: 4.3592e-10, iv: 3.1587e-05, dv:1.0102e+00\n",
      "ListWrapper([2.25, 1.96369016])\n",
      "(<tf.Tensor: shape=(), dtype=float32, numpy=0.056130346>, <tf.Tensor: shape=(), dtype=float32, numpy=4.2075782e-10>, <tf.Tensor: shape=(), dtype=float32, numpy=3.9827355e-10>, <tf.Tensor: shape=(), dtype=float32, numpy=3.189834e-05>, <tf.Tensor: shape=(), dtype=float32, numpy=5.00392e-10>, <tf.Tensor: shape=(), dtype=float32, numpy=2.478002e-05>, <tf.Tensor: shape=(), dtype=float32, numpy=0.056073666>)\n",
      "2020/07/15, 19:52:04, Epoch: 96000, Loss: 5.6130e-02, c: 4.2076e-10, ireq: 3.9827e-10, irn: 3.1898e-05, dr: 5.0039e-10, iv: 2.4780e-05, dv:5.6074e-02\n",
      "ListWrapper([2.25, 1.95767009])\n",
      "(<tf.Tensor: shape=(), dtype=float32, numpy=0.3942809>, <tf.Tensor: shape=(), dtype=float32, numpy=5.1303334e-10>, <tf.Tensor: shape=(), dtype=float32, numpy=4.557143e-10>, <tf.Tensor: shape=(), dtype=float32, numpy=5.6579633e-05>, <tf.Tensor: shape=(), dtype=float32, numpy=5.1430016e-10>, <tf.Tensor: shape=(), dtype=float32, numpy=2.8474247e-05>, <tf.Tensor: shape=(), dtype=float32, numpy=0.39419585>)\n",
      "2020/07/15, 19:56:53, Epoch: 98000, Loss: 3.9428e-01, c: 5.1303e-10, ireq: 4.5571e-10, irn: 5.6580e-05, dr: 5.1430e-10, iv: 2.8474e-05, dv:3.9420e-01\n",
      "ListWrapper([2.25, 1.95160449])\n",
      "(<tf.Tensor: shape=(), dtype=float32, numpy=0.7366082>, <tf.Tensor: shape=(), dtype=float32, numpy=3.6565245e-10>, <tf.Tensor: shape=(), dtype=float32, numpy=3.7799888e-10>, <tf.Tensor: shape=(), dtype=float32, numpy=4.452048e-05>, <tf.Tensor: shape=(), dtype=float32, numpy=3.6915054e-10>, <tf.Tensor: shape=(), dtype=float32, numpy=2.8097707e-05>, <tf.Tensor: shape=(), dtype=float32, numpy=0.7365356>)\n",
      "2020/07/15, 20:01:43, Epoch: 100000, Loss: 7.3661e-01, c: 3.6565e-10, ireq: 3.7800e-10, irn: 4.4520e-05, dr: 3.6915e-10, iv: 2.8098e-05, dv:7.3654e-01\n",
      "ListWrapper([2.25, 1.94555569])\n",
      "INFO:tensorflow:Assets written to: models/0714_single_source_simplest_pretrain_source/None/checkpoint_100000/direct_model/assets\n",
      "INFO:tensorflow:Assets written to: models/0714_single_source_simplest_pretrain_source/None/checkpoint_100000/inverse_model/assets\n",
      "(<tf.Tensor: shape=(), dtype=float32, numpy=0.04392566>, <tf.Tensor: shape=(), dtype=float32, numpy=4.078635e-10>, <tf.Tensor: shape=(), dtype=float32, numpy=4.4790283e-10>, <tf.Tensor: shape=(), dtype=float32, numpy=3.50884e-05>, <tf.Tensor: shape=(), dtype=float32, numpy=3.619968e-10>, <tf.Tensor: shape=(), dtype=float32, numpy=2.4571977e-05>, <tf.Tensor: shape=(), dtype=float32, numpy=0.043866>)\n",
      "2020/07/15, 20:06:34, Epoch: 102000, Loss: 4.3926e-02, c: 4.0786e-10, ireq: 4.4790e-10, irn: 3.5088e-05, dr: 3.6200e-10, iv: 2.4572e-05, dv:4.3866e-02\n",
      "ListWrapper([2.25, 1.93963325])\n",
      "(<tf.Tensor: shape=(), dtype=float32, numpy=0.43693346>, <tf.Tensor: shape=(), dtype=float32, numpy=3.942726e-10>, <tf.Tensor: shape=(), dtype=float32, numpy=4.4051895e-10>, <tf.Tensor: shape=(), dtype=float32, numpy=4.6101122e-05>, <tf.Tensor: shape=(), dtype=float32, numpy=4.181732e-10>, <tf.Tensor: shape=(), dtype=float32, numpy=2.720902e-05>, <tf.Tensor: shape=(), dtype=float32, numpy=0.43686014>)\n",
      "2020/07/15, 20:11:24, Epoch: 104000, Loss: 4.3693e-01, c: 3.9427e-10, ireq: 4.4052e-10, irn: 4.6101e-05, dr: 4.1817e-10, iv: 2.7209e-05, dv:4.3686e-01\n",
      "ListWrapper([2.25, 1.93368304])\n"
     ]
    }
   ],
   "source": [
    "# optimizer = keras.optimizers.Adam(learning_rate = 1e-5)\n",
    "# w_c, w_ireq, w_irn, w_dr = 1.0, 1.0, 1.0, 1.0\n",
    "# w_iv = 1.0\n",
    "# w_dv = 1.0\n",
    "\n",
    "# train(iterations = 1000000, start_iteration = 0, \n",
    "# \t  datasets = datasets, batch_sizes = (256, 128, 256), \n",
    "# \t  print_every = 2000, save_every = 50000, save_path = None)"
   ]
  },
  {
   "cell_type": "code",
   "execution_count": 6,
   "metadata": {},
   "outputs": [
    {
     "name": "stdout",
     "output_type": "stream",
     "text": [
      "WARNING:tensorflow:No training configuration found in save file, so the model was *not* compiled. Compile it manually.\n",
      "WARNING:tensorflow:No training configuration found in save file, so the model was *not* compiled. Compile it manually.\n"
     ]
    }
   ],
   "source": [
    "save_path = \"None\"\n",
    "iteration = 100000\n",
    "direct_model = keras.models.load_model(\"models/{}/{}/checkpoint_{}/direct_model\".format(NAME, save_path, iteration))\n",
    "inverse_model = keras.models.load_model(\"models/{}/{}/checkpoint_{}/inverse_model\".format(NAME, save_path, iteration))"
   ]
  },
  {
   "cell_type": "code",
   "execution_count": 12,
   "metadata": {},
   "outputs": [],
   "source": [
    "import pickle\n",
    "with open(\"dataset_single_source.pkl\", \"rb\") as file:\n",
    "\t[x, t, p, _, _] = pickle.load(file)\n",
    "\tx /= x0\n",
    "\tt /= t0\n",
    "z = np.array([20.0]) / z0\n",
    "txz = tensor_grid([t, x, z])\n",
    "xd, zd, td = txz[:, 0:1], txz[:, 1:2], txz[:, 2:3]\n",
    "\n",
    "p = direct_model(tf.concat([xd, zd, td], axis = 1))"
   ]
  },
  {
   "cell_type": "code",
   "execution_count": 13,
   "metadata": {},
   "outputs": [],
   "source": [
    "from matplotlib import pyplot as plt\n"
   ]
  },
  {
   "cell_type": "code",
   "execution_count": 16,
   "metadata": {},
   "outputs": [
    {
     "data": {
      "text/plain": [
       "-6.669988e-05"
      ]
     },
     "execution_count": 16,
     "metadata": {},
     "output_type": "execute_result"
    }
   ],
   "source": [
    "np.(p)"
   ]
  },
  {
   "cell_type": "code",
   "execution_count": null,
   "metadata": {},
   "outputs": [],
   "source": []
  }
 ],
 "metadata": {
  "kernelspec": {
   "display_name": "Python 3",
   "language": "python",
   "name": "python3"
  },
  "language_info": {
   "codemirror_mode": {
    "name": "ipython",
    "version": 3
   },
   "file_extension": ".py",
   "mimetype": "text/x-python",
   "name": "python",
   "nbconvert_exporter": "python",
   "pygments_lexer": "ipython3",
   "version": "3.8.3"
  }
 },
 "nbformat": 4,
 "nbformat_minor": 4
}
