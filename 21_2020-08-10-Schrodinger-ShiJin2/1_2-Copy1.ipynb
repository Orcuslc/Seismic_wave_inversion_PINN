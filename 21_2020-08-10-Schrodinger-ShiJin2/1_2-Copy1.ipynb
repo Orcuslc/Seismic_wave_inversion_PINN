{
 "cells": [
  {
   "cell_type": "markdown",
   "metadata": {},
   "source": [
    "# Schrodinger equation\n",
    "---\n",
    "\n",
    "$$\n",
    "\\begin{aligned}\n",
    "\\varepsilon u_t - i\\frac{\\epsilon^2}{2}\\Delta u + i V(x)u = 0, \\ t \\in \\mathbb{R}, x\\in \\mathbb{R}^d, \\\\\n",
    "u(x, t = 0) = u_0(x),\n",
    "\\end{aligned}\n",
    "$$\n",
    "where $V$ is a given electrostatic potential, $0 < \\varepsilon \\ll 1$.\n",
    "\n",
    "---\n",
    "\n",
    "Example 1 in Shi Jin's paper (2008-jy-phase.pdf):\n",
    "$$\n",
    "u(x, 0) = \\sqrt{n_0(x)}e^{iS_0(x)/\\varepsilon},\n",
    "$$\n",
    "(3.9-3.10)\n",
    "$$\n",
    "n_0(x) = e^{-25x^2}, \\ S_0(x) = -0.2\\log(2\\cosh(5x)).\n",
    "$$\n",
    "\n",
    "Periodic BC.\n",
    "\n",
    "Domain: $[-0.25, 0.25]\\times [0, 0.5]$.\n",
    "\n",
    "---\n",
    "\n",
    "Consider the real and imag part of $u$, i.e., \n",
    "$$\n",
    "u(x, t) = p(x, t) + iq(x, t),\n",
    "$$\n",
    "then\n",
    "$$\n",
    "\\begin{aligned}\n",
    "&\\varepsilon p_t+\\frac{\\varepsilon^2}{2}q_{xx} - V(x)q = 0, \\\\\n",
    "&\\varepsilon q_t-\\frac{\\varepsilon^2}{2}p_{xx} + V(x)p = 0,\n",
    "\\end{aligned}\n",
    "$$\n",
    "with ic\n",
    "$$\n",
    "p(x, 0) = e^{-25x^2}\\cos(-0.2\\log(2\\cosh(5x))/\\varepsilon), \\ q(x, 0) = e^{-25x^2}\\sin(-0.2\\log(2\\cosh(5x))/\\varepsilon),\n",
    "$$\n",
    "and bc\n",
    "$$\n",
    "p(x_0, t) = p(x_1, t), q(x_0, t) = q(x_1, t), p_x(x_0, t) = p_x(x_1, t), q_x(x_0, t) = q_x(x_1, t).\n",
    "$$"
   ]
  },
  {
   "cell_type": "code",
   "execution_count": 1,
   "metadata": {},
   "outputs": [],
   "source": [
    "NAME = \"1_2\""
   ]
  },
  {
   "cell_type": "code",
   "execution_count": 2,
   "metadata": {},
   "outputs": [],
   "source": [
    "import jax, jax.nn\n",
    "from jax import random\n",
    "import jax.numpy as jnp\n",
    "from jax.experimental import optimizers\n",
    "from jax.ops import index, index_add, index_update\n",
    "\n",
    "\n",
    "import sys, os\n",
    "sys.path.append(\"../../\")\n",
    "\t\n",
    "from Seismic_wave_inversion_PINN.data_utils import *\n",
    "from Seismic_wave_inversion_PINN.jax_model import *\n",
    "\n",
    "from collections import namedtuple"
   ]
  },
  {
   "cell_type": "code",
   "execution_count": 8,
   "metadata": {
    "scrolled": true
   },
   "outputs": [],
   "source": [
    "key = random.PRNGKey(1)\n",
    "key, subkey = random.split(key, 2)\n",
    "\n",
    "params = jnp.ones((3, 2))\n",
    "\n",
    "@jax.jit\n",
    "def model_(params, xt):\n",
    "# \txt = jnp.sin(2.0*jnp.pi*(xt - domain[0, :])/(domain[1, :]-domain[0, :]) - jnp.pi)\n",
    "\txt1 = jnp.dot(xt, jnp.array([[1.0, 1.0, 0.0], [0.0, 0.0, 1.0]]))\n",
    "\txt2 = index_update(xt1, index[:, 0], xt1[:, 0]+1)\n",
    "\txt_ = index_update(xt2, index[:, 1], 2*xt2[:, 1]**2+2*xt2[:, 1])\n",
    "\treturn xt_\n",
    "\n",
    "@jax.jit\n",
    "def model_2(params, xt):\n",
    "# \txt = jnp.sin(2.0*jnp.pi*(xt - domain[0, :])/(domain[1, :]-domain[0, :]) - jnp.pi)\n",
    "\txt1 = jnp.dot(xt, jnp.array([[1.0, 1.0, 0.0], [0.0, 0.0, 1.0]]))\n",
    "\txt2 = index_update(xt1, index[0], xt1[0]+1)\n",
    "\txt_ = index_update(xt2, index[1], 2*xt2[1]**2+2*xt2[1])\n",
    "\treturn xt_\n",
    "\n",
    "model = jax.vmap(model_, (None, 0))"
   ]
  },
  {
   "cell_type": "code",
   "execution_count": 9,
   "metadata": {},
   "outputs": [
    {
     "data": {
      "text/plain": [
       "DeviceArray([[ 2.,  4.,  2.],\n",
       "             [ 3., 12.,  3.],\n",
       "             [ 4., 24.,  4.]], dtype=float32)"
      ]
     },
     "execution_count": 9,
     "metadata": {},
     "output_type": "execute_result"
    }
   ],
   "source": [
    "xt = jnp.array([[1.0, 2.0], [2.0, 3.0], [3.0, 4.0]])\n",
    "model_(params, xt)"
   ]
  },
  {
   "cell_type": "code",
   "execution_count": 10,
   "metadata": {},
   "outputs": [],
   "source": [
    "def jacfwd_fn(model):\n",
    "\tdef jac_(params, inputs):\n",
    "\t\treturn jax.jit(jax.vmap(jax.jacfwd(model, 1), in_axes = (None, 0)))(params, inputs)\n",
    "\treturn jac_\n",
    "\n",
    "jacobian = jacfwd_fn(model_)"
   ]
  },
  {
   "cell_type": "code",
   "execution_count": 11,
   "metadata": {},
   "outputs": [
    {
     "data": {
      "text/plain": [
       "DeviceArray([[[ 1.,  0.],\n",
       "              [ 6.,  0.],\n",
       "              [ 0.,  1.]],\n",
       "\n",
       "             [[ 1.,  0.],\n",
       "              [10.,  0.],\n",
       "              [ 0.,  1.]],\n",
       "\n",
       "             [[ 1.,  0.],\n",
       "              [14.,  0.],\n",
       "              [ 0.,  1.]]], dtype=float32)"
      ]
     },
     "execution_count": 11,
     "metadata": {},
     "output_type": "execute_result"
    }
   ],
   "source": [
    "jax.vmap(jax.jacfwd(model_2, 1), (None, 0))(params, xt)"
   ]
  },
  {
   "cell_type": "code",
   "execution_count": null,
   "metadata": {},
   "outputs": [],
   "source": []
  }
 ],
 "metadata": {
  "kernelspec": {
   "display_name": "Python 3",
   "language": "python",
   "name": "python3"
  },
  "language_info": {
   "codemirror_mode": {
    "name": "ipython",
    "version": 3
   },
   "file_extension": ".py",
   "mimetype": "text/x-python",
   "name": "python",
   "nbconvert_exporter": "python",
   "pygments_lexer": "ipython3",
   "version": "3.8.5"
  }
 },
 "nbformat": 4,
 "nbformat_minor": 4
}
